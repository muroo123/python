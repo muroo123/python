{
  "nbformat": 4,
  "nbformat_minor": 0,
  "metadata": {
    "colab": {
      "provenance": [],
      "authorship_tag": "ABX9TyPFs00FgdxRfil0kf7/GHdJ",
      "include_colab_link": true
    },
    "kernelspec": {
      "name": "python3",
      "display_name": "Python 3"
    },
    "language_info": {
      "name": "python"
    }
  },
  "cells": [
    {
      "cell_type": "markdown",
      "metadata": {
        "id": "view-in-github",
        "colab_type": "text"
      },
      "source": [
        "<a href=\"https://colab.research.google.com/github/muroo123/python/blob/main/python_basic_section1_%EC%97%B0%EC%8A%B5%EB%AC%B8%EC%A0%9C(%ED%92%80%EC%9D%B4).ipynb\" target=\"_parent\"><img src=\"https://colab.research.google.com/assets/colab-badge.svg\" alt=\"Open In Colab\"/></a>"
      ]
    },
    {
      "cell_type": "code",
      "execution_count": null,
      "metadata": {
        "colab": {
          "base_uri": "https://localhost:8080/"
        },
        "id": "Fi83bCuSEYsD",
        "outputId": "5a6571ac-58e1-4ba9-ec9c-0ddc84ddef3a"
      },
      "outputs": [
        {
          "output_type": "stream",
          "name": "stdout",
          "text": [
            "Hello World\n",
            "Mary's cosmetics\n",
            "신씨가 소리질렀다. \"도둑이야\"\n",
            "C:\\Windows\n"
          ]
        }
      ],
      "source": [
        "# print 기초\n",
        "\n",
        "#1 화면에 Hello World 문자열을 출력하세요.\n",
        "print(\"Hello World\")\n",
        "\n",
        "#2 화면에 Mary's cosmetics을 출력하세요. (중간에 '가 있음에 주의하세요)\n",
        "print(\"Mary's cosmetics\")\n",
        "\n",
        "#3 화면에 아래 문장을 출력하세요. (중간에 \"가 있음에 주의하세요.)\n",
        "# 신씨가 소리질렀다. \"도둑이야\"\n",
        "print('신씨가 소리질렀다. \"도둑이야\"')\n",
        "\n",
        "#4 화면에 C:\\Windows를 출력하세요.\n",
        "print('C:\\Windows')"
      ]
    },
    {
      "cell_type": "code",
      "source": [
        "# print format\n",
        "\n",
        "# 2024 값을 갖는 정수 객체 year를 사용하여 '올해는 2024년입니다.'을 출력한다\n",
        "# 출력은 print(,), % 연산자, format 메서드, f-string 사용하여 4가지 방법으로 출력하세요.\n",
        "# %d : 10진 정수,  %f : 실수(float), %s : 문자열(str)\n",
        "\n",
        "year = 2024\n",
        "print(\"올해는\", year,\"년 입니다.\")\n",
        "print(\"올해는 %d년 입니다.\"% (year))\n",
        "print(\"올해는 {}년 입니다.\".format(year))\n",
        "print(f\"올해는 {year}년 입니다.\")\n",
        "\n"
      ],
      "metadata": {
        "colab": {
          "base_uri": "https://localhost:8080/"
        },
        "id": "LURkEfFjFeFT",
        "outputId": "f3c378f3-c0c7-48e2-e0a3-1c64d9700b46"
      },
      "execution_count": null,
      "outputs": [
        {
          "output_type": "stream",
          "name": "stdout",
          "text": [
            "올해는 2024 년 입니다.\n",
            "올해는 2024년 입니다.\n",
            "올해는 2024년 입니다.\n",
            "올해는 2024년 입니다.\n"
          ]
        }
      ]
    },
    {
      "cell_type": "code",
      "source": [
        "# input 기초\n",
        "\n",
        "# 1. 문자열 \"Python\" 입력받아 그대로 출력하기\n",
        "a = input()\n",
        "print(a, type(a))\n",
        "\n",
        "# 2. 정수 50 입력받아 int로 변환하여 출력하기\n",
        "a = int(input())\n",
        "print(a, type(a))\n",
        "\n",
        "# 3. 실수 12.34 입력받아 변환하여 출력하기\n",
        "a = float(input())\n",
        "print(a, type(a))\n",
        "\n",
        "# 4. bool True 입력받아 변환하여 출력하기\n",
        "a = bool(input())\n",
        "print(a, type(a))"
      ],
      "metadata": {
        "colab": {
          "base_uri": "https://localhost:8080/"
        },
        "id": "aLHvC28XGMLk",
        "outputId": "5eebe512-5287-4cd0-b6f4-a44c9c94f162"
      },
      "execution_count": null,
      "outputs": [
        {
          "output_type": "stream",
          "name": "stdout",
          "text": [
            "Python\n",
            "Python <class 'str'>\n",
            "50\n",
            "50 <class 'int'>\n",
            "12.34\n",
            "12.34 <class 'float'>\n",
            "True\n",
            "True <class 'bool'>\n"
          ]
        }
      ]
    },
    {
      "cell_type": "code",
      "source": [
        "# input 연습\n",
        "\n",
        "# 정수 2개를 입력 받아 더하기(+) 계산하여 출력하기\n",
        "# print 4가지 방법을 사용하세요.\n",
        "\n",
        "a = int(input(\"첫번째 숫자를 입력하세요\"))\n",
        "b = int(input(\"두번째 숫자를 입력하세요\"))\n",
        "\n",
        "print(a, b,\"두 수의 합은\", a+b,\"입니다.\")\n",
        "print(\"%d %d 두 수의 합은 %d 입니다.\" % (a,b,a+b))\n",
        "print(\"{} {} 두 수의 합은 {} 입니다.\".format(a,b,a+b))\n",
        "print(f\"{a} {b} 두 수의 합은 {a+b} 입니다.\")\n"
      ],
      "metadata": {
        "colab": {
          "base_uri": "https://localhost:8080/"
        },
        "id": "pv6D3djuJe0w",
        "outputId": "699327b8-d0b1-4e6f-8f11-bb0546e2b938"
      },
      "execution_count": null,
      "outputs": [
        {
          "output_type": "stream",
          "name": "stdout",
          "text": [
            "첫번째 숫자를 입력하세요10\n",
            "두번째 숫자를 입력하세요50\n",
            "10 50 두 수의 합은 60 입니다.\n",
            "10 50 두 수의 합은 60 입니다.\n",
            "10 50 두 수의 합은 60 입니다.\n",
            "10 50 두 수의 합은 60 입니다.\n"
          ]
        }
      ]
    },
    {
      "cell_type": "code",
      "source": [
        "# Container 자료형\n",
        "# list, tuple, set,dictionary 에 1 값을 넣으세요. dictionary('one':1)\n",
        "\n",
        "#     tuple : (1,)\n",
        "#     list  : [1]\n",
        "#     set   : {1}\n",
        "#     dict  : {'one': 1}  ->   {'apple':'사과', key:value}\n",
        "a = [1]\n",
        "b = (1,)\n",
        "c = {1}\n",
        "d = {'one':1}\n",
        "print(type(a), a)\n",
        "print(type(b), b)\n",
        "print(type(c), c)\n",
        "print(type(d), d)"
      ],
      "metadata": {
        "colab": {
          "base_uri": "https://localhost:8080/"
        },
        "id": "sp3MlcTOM0tQ",
        "outputId": "4223b8b5-5739-4643-eb4e-fabc9ef7d586"
      },
      "execution_count": null,
      "outputs": [
        {
          "output_type": "stream",
          "name": "stdout",
          "text": [
            "<class 'list'> [1]\n",
            "<class 'tuple'> (1,)\n",
            "<class 'set'> {1}\n",
            "<class 'dict'> {'one': 1}\n"
          ]
        }
      ]
    },
    {
      "cell_type": "code",
      "source": [],
      "metadata": {
        "id": "xtdzU6HqONS3"
      },
      "execution_count": null,
      "outputs": []
    }
  ]
}