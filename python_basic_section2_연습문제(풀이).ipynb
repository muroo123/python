{
  "nbformat": 4,
  "nbformat_minor": 0,
  "metadata": {
    "colab": {
      "provenance": [],
      "authorship_tag": "ABX9TyMrzOHUqXa8yR4A0ekf0pyl",
      "include_colab_link": true
    },
    "kernelspec": {
      "name": "python3",
      "display_name": "Python 3"
    },
    "language_info": {
      "name": "python"
    }
  },
  "cells": [
    {
      "cell_type": "markdown",
      "metadata": {
        "id": "view-in-github",
        "colab_type": "text"
      },
      "source": [
        "<a href=\"https://colab.research.google.com/github/muroo123/python/blob/main/python_basic_section2_%EC%97%B0%EC%8A%B5%EB%AC%B8%EC%A0%9C(%ED%92%80%EC%9D%B4).ipynb\" target=\"_parent\"><img src=\"https://colab.research.google.com/assets/colab-badge.svg\" alt=\"Open In Colab\"/></a>"
      ]
    },
    {
      "cell_type": "code",
      "execution_count": null,
      "metadata": {
        "colab": {
          "base_uri": "https://localhost:8080/",
          "height": 350
        },
        "id": "sSiscHeJysyd",
        "outputId": "47b01218-bd12-49ad-8f12-eb5bcb8e4f0a"
      },
      "outputs": [
        {
          "name": "stdout",
          "output_type": "stream",
          "text": [
            "1번 정수 1개를 입력하세요10\n",
            "-10\n",
            "2번 문자 1개를 입력 받아 다음 문자 출력B\n",
            "C\n",
            "3번 단어 반복 출력하기 (예)hello 3hello\n"
          ]
        },
        {
          "output_type": "error",
          "ename": "ValueError",
          "evalue": "not enough values to unpack (expected 2, got 1)",
          "traceback": [
            "\u001b[0;31m---------------------------------------------------------------------------\u001b[0m",
            "\u001b[0;31mValueError\u001b[0m                                Traceback (most recent call last)",
            "\u001b[0;32m<ipython-input-1-23f3911d2e13>\u001b[0m in \u001b[0;36m<cell line: 16>\u001b[0;34m()\u001b[0m\n\u001b[1;32m     14\u001b[0m \u001b[0;31m# 입력 : hello 3 -> 출력 hellohellohello\u001b[0m\u001b[0;34m\u001b[0m\u001b[0;34m\u001b[0m\u001b[0m\n\u001b[1;32m     15\u001b[0m \u001b[0;31m# 입력값 구분은 공백(space), split() 사용\u001b[0m\u001b[0;34m\u001b[0m\u001b[0;34m\u001b[0m\u001b[0m\n\u001b[0;32m---> 16\u001b[0;31m \u001b[0mw\u001b[0m\u001b[0;34m,\u001b[0m \u001b[0mn\u001b[0m \u001b[0;34m=\u001b[0m \u001b[0minput\u001b[0m\u001b[0;34m(\u001b[0m\u001b[0;34m\"3번 단어 반복 출력하기 (예)hello 3\"\u001b[0m\u001b[0;34m)\u001b[0m\u001b[0;34m.\u001b[0m\u001b[0msplit\u001b[0m\u001b[0;34m(\u001b[0m\u001b[0;34m)\u001b[0m\u001b[0;34m\u001b[0m\u001b[0;34m\u001b[0m\u001b[0m\n\u001b[0m\u001b[1;32m     17\u001b[0m \u001b[0mprint\u001b[0m\u001b[0;34m(\u001b[0m\u001b[0mw\u001b[0m\u001b[0;34m*\u001b[0m\u001b[0mint\u001b[0m\u001b[0;34m(\u001b[0m\u001b[0mn\u001b[0m\u001b[0;34m)\u001b[0m\u001b[0;34m)\u001b[0m\u001b[0;34m\u001b[0m\u001b[0;34m\u001b[0m\u001b[0m\n\u001b[1;32m     18\u001b[0m \u001b[0;34m\u001b[0m\u001b[0m\n",
            "\u001b[0;31mValueError\u001b[0m: not enough values to unpack (expected 2, got 1)"
          ]
        }
      ],
      "source": [
        "#산술연산\n",
        "\n",
        "#1 정수 1개 입력 받아 부호 바꾸기\n",
        "a = int(input(\"1번 정수 1개를 입력하세요\"))\n",
        "print(-a)\n",
        "\n",
        "#2 알파벳 문자 1개를 입력받아 그 다음 문자를 출력.\n",
        "# ord() chr() 사용, 입력 A -> 출력 B\n",
        "b = input(\"2번 문자 1개를 입력 받아 다음 문자 출력\")\n",
        "n = ord(b)\n",
        "print(chr(n+1))\n",
        "\n",
        "#3 단어와 반복 횟수를 입력받아 여러 번 출력\n",
        "# 입력 : hello 3 -> 출력 hellohellohello\n",
        "# 입력값 구분은 공백(space), split() 사용\n",
        "w, n = input(\"3번 단어 반복 출력하기 (예)hello 3\").split()\n",
        "print(w*int(n))\n",
        "\n",
        "#4 정수 2개 입력 받아 거듭제곱 계산\n",
        "# 입력 10 2 -> 출력 100(10*10)\n",
        "n1, n2 = input(\"4번 정수 2개 입력 받아 거듭제곱 계산\").split()\n",
        "print(int(n1) ** int(n2))\n",
        "\n",
        "#5 정수 2개(a, b) 를 입력받아 a를 b로 나눈 몫과 나머지 출력\n",
        "a, b = input(\"5번 정수 2개 입력 받아 몫과 나머지 출력\").split()\n",
        "a = int(a)\n",
        "b = int(b)\n",
        "print(a//b, a%b)\n",
        "\n",
        "#6 5번 입력 값을 사용하여 a/b 결과를 소수점 2자리까지 출력\n",
        "# 출력은 %f 서식과 f'{}' 사용\n",
        "\n",
        "print(a/b, end='    ' )\n",
        "print(\"%.2f\" % (a/b), end='   ')\n",
        "print(f'{a/b:.2f}')\n",
        "\n"
      ]
    },
    {
      "cell_type": "code",
      "source": [
        "#5 정수 2개(a, b) 를 입력받아 a를 b로 나눈 몫과 나머지 출력\n",
        "a, b = input(\"5번 정수 2개 입력 받아 몫과 나머지 출력\").split()\n",
        "a = int(a)\n",
        "b = int(b)\n",
        "print(a//b, a%b)\n",
        "\n",
        "#6 5번 입력 값을 사용하여 a/b 결과를 소수점 2자리까지 출력\n",
        "# 출력은 %f 서식과 f'{}' 사용\n",
        "\n",
        "print(a/b, end='    ' )\n",
        "print(\"%.2f\" % (a/b), end='   ')\n",
        "print(f'{a/b:.2f}')\n"
      ],
      "metadata": {
        "colab": {
          "base_uri": "https://localhost:8080/"
        },
        "id": "fABevT-gcnl2",
        "outputId": "8a78463f-076a-404b-ca7e-c8ad2d197743"
      },
      "execution_count": null,
      "outputs": [
        {
          "output_type": "stream",
          "name": "stdout",
          "text": [
            "5번 정수 2개 입력 받아 몫과 나머지 출력8 3\n",
            "2 2\n",
            "2.6666666666666665    2.67   2.67\n"
          ]
        }
      ]
    },
    {
      "cell_type": "code",
      "source": [
        "#할당 연산자\n",
        "# 할당 연산자를 사용하여 출력하기\n",
        "# +=. -=, *=, /=, //=, %=, **=\n",
        "a = 10\n",
        "b = 3\n",
        "\n",
        "# a값 1 크게 만들기\n",
        "a += 1\n",
        "print(a)\n",
        "\n",
        "# b값 1 작게 만들기\n",
        "b -= 1\n",
        "print(b)\n",
        "\n",
        "# a값 2 곱하기\n",
        "a *= 2\n",
        "print(a)\n",
        "\n",
        "# a값 3 나누기\n",
        "a /= 3\n",
        "print(a)\n",
        "\n",
        "a = 10\n",
        "# a값 3 나누기 몫\n",
        "a //= 3\n",
        "print(a)\n",
        "\n",
        "a = 10\n",
        "# a값 3 나누기 나머지\n",
        "a %= 3\n",
        "print(a)\n",
        "\n",
        "\n",
        "a = 10\n",
        "# a값 3제곱\n",
        "a **= 3\n",
        "print(a)\n"
      ],
      "metadata": {
        "colab": {
          "base_uri": "https://localhost:8080/"
        },
        "id": "KJvjJ7MOziKt",
        "outputId": "3f030e2d-60e6-4c0b-eb8a-f97d1a219be6"
      },
      "execution_count": null,
      "outputs": [
        {
          "output_type": "stream",
          "name": "stdout",
          "text": [
            "11\n",
            "2\n",
            "22\n",
            "7.333333333333333\n",
            "3\n",
            "1\n",
            "1000\n"
          ]
        }
      ]
    },
    {
      "cell_type": "code",
      "source": [
        "#비교 연산자 <, >, <=, >=, ==(같다), !=(다르다)\n",
        "\n",
        "#1 두 정수(a, b)를 입력받아 a가 b보다 작으면 True 를, a가 b보다 크거나 같으면 False 를 출력\n",
        "a, b = input(\"1번 정수 2개 입력 받아 작다, 크거나 같다 출력\").split()\n",
        "a = int(a)\n",
        "b = int(b)\n",
        "print(a<b, a>=b)\n",
        "\n",
        "#2 두 정수(a, b)를 입력받아 a와 b의 값이 같으면 True 를, 같지 않으면 False 를 출력\n",
        "a, b = input(\"2번 정수 2개 입력 받아 같다, 같지 않다 출력\").split()\n",
        "a = int(a)\n",
        "b = int(b)\n",
        "print(a==b, a!=b)\n",
        "\n"
      ],
      "metadata": {
        "colab": {
          "base_uri": "https://localhost:8080/"
        },
        "id": "kh6sVW_u1dKg",
        "outputId": "8dc2e0a8-bddc-499c-dedf-87cf73641480"
      },
      "execution_count": null,
      "outputs": [
        {
          "output_type": "stream",
          "name": "stdout",
          "text": [
            "1번 정수 2개 입력 받아 작다, 크거나 같다 출력10 5\n",
            "False True\n",
            "2번 정수 2개 입력 받아 같다, 같지 않다 출력10 10\n",
            "True False\n"
          ]
        }
      ]
    },
    {
      "cell_type": "code",
      "source": [
        "# 논리연산\n",
        "#1 정수 입력 받아 참 거짓 평가하기\n",
        "n = int(input(\"1번 정수 입력 받아 참, 거짓 평가하기\"))\n",
        "print(n, bool(n))\n",
        "\n",
        "#2 참,거짓 바꾸기. 정수값이 입력 그 bool 값을 반대로 출력\n",
        "n = bool(int(input(\"2번 정수값이 입력 bool 값 반대로 바꾸기\")))\n",
        "print(n, not (n))\n",
        "\n",
        "#3 2개의 정수값의 bool 값이 모두 True 일 때에만 True 를 출력\n",
        "a, b = input(\"3번 2개의 정수값의 bool 값이 모두 True 일 때에만 True 를 출력\").split()\n",
        "a = bool(int(a))\n",
        "b = bool(int(b))\n",
        "print(a and b)\n",
        "\n",
        "#4 2개의 정수값이 입력될 때,그 불 값이 하나라도 True 일 때에만 True 를 출력\n",
        "a, b = input(\"4번 2개의 정수값의 bool 값이 하나라도 True 일 때에만 True 를 출력\").split()\n",
        "a = bool(int(a))\n",
        "b = bool(int(b))\n",
        "print(a or b)\n",
        "\n",
        "# 5 2개의 정수값이 입력될 때,그 불 값(True/False) 이 서로 다를 때에만 True 를 출력\n",
        "a, b = input(\"5번 2개의 정수값의 bool 값이 서로 다를 때에만 True 를 출력\").split()\n",
        "a = bool(int(a))\n",
        "b = bool(int(b))\n",
        "print((a and (not b)) or ((not a) and b))"
      ],
      "metadata": {
        "id": "5x_Z-rIv2tc3",
        "colab": {
          "base_uri": "https://localhost:8080/"
        },
        "outputId": "244be930-05f5-4369-c807-38b415f0d36d"
      },
      "execution_count": null,
      "outputs": [
        {
          "output_type": "stream",
          "name": "stdout",
          "text": [
            "1번 정수 입력 받아 참, 거짓 평가하기10\n",
            "10 True\n",
            "2번 정수값이 입력 bool 값 반대로 바꾸기10\n",
            "True False\n",
            "3번 2개의 정수값의 bool 값이 모두 True 일 때에만 True 를 출력10 0\n",
            "False\n",
            "4번 2개의 정수값의 bool 값이 하나라도 True 일 때에만 True 를 출력10 0\n",
            "True\n",
            "5번 2개의 정수값의 bool 값이 서로 다를 때에만 True 를 출력10 5\n",
            "False\n"
          ]
        }
      ]
    },
    {
      "cell_type": "code",
      "source": [
        "#1 정수 입력 받아 참 거짓 평가하기\n",
        "n = int(input(\"1번 정수 입력 받아 참, 거짓 평가하기\"))\n",
        "print(n, bool(n))"
      ],
      "metadata": {
        "colab": {
          "base_uri": "https://localhost:8080/"
        },
        "id": "8wRbx2h2d-tc",
        "outputId": "4a319ed1-42e2-49cd-e3d9-40d49cbbcee3"
      },
      "execution_count": null,
      "outputs": [
        {
          "output_type": "stream",
          "name": "stdout",
          "text": [
            "1번 정수 입력 받아 참, 거짓 평가하기0\n",
            "0 False\n"
          ]
        }
      ]
    },
    {
      "cell_type": "code",
      "source": [
        "#비트연산 &(AND) |(OR) ^(XOR) ~(NOT) <<(왼쪽쉬프트) >>(오른쪽쉬프트)\n",
        "\n",
        "#1 변수 a 값을 비트단위로 참/거짓을 바꾼 후 정수로 출력\n",
        "a = 5\n",
        "print(~a, a)\n",
        "#2 변수 a 값을 +- 부호를 바꾼 후 정수로 출력\n",
        "a = -10\n",
        "print(~a+1)\n",
        "\n",
        "#3 변수 a,b 값을 비트단위로 and, or, xor 연산한 후 그 결과를 정수로 출력\n",
        "a = 20\n",
        "b = 15\n",
        "print(bin(a))\n",
        "print(bin(b))\n",
        "print(bin(a&b), a&b)\n",
        "print(bin(a|b), a|b)\n",
        "print(bin(a^b), a^b)\n",
        "\n",
        "#4 변수 a값을 2배, 4배, 8배하기\n",
        "a = 10\n",
        "print(a<<1, a<<2, a<<3)\n",
        "\n",
        "# 5변수 a값을 1/2배, 1/4배, 1/8배하기\n",
        "a = 10\n",
        "print(a>>1, a>>2, a>>3)\n"
      ],
      "metadata": {
        "colab": {
          "base_uri": "https://localhost:8080/"
        },
        "id": "yet4uYmtFDzx",
        "outputId": "e74f379f-5380-47b3-9903-7cd9d06b4d00"
      },
      "execution_count": null,
      "outputs": [
        {
          "output_type": "stream",
          "name": "stdout",
          "text": [
            "-6 5\n",
            "10\n",
            "0b10100\n",
            "0b1111\n",
            "0b100 4\n",
            "0b11111 31\n",
            "0b11011 27\n",
            "20 40 80\n",
            "5 2 1\n"
          ]
        }
      ]
    },
    {
      "cell_type": "code",
      "source": [
        "# in 연산자, is 연산자\n",
        "\n",
        "#1 in 있다 True 없다 False\n",
        "a = ['딸기','귤','사과','배']\n",
        "print(\"딸기\" in a) #딸기 있다\n",
        "print(\"딸기\" not in a) #딸기 없다 False\n",
        "\n",
        "#2 is 메모리 값이 같다 True, 다르다 False\n",
        "# 값이 같다 ==, 값이 다르다 !=\n",
        "a=\"바나나\"\n",
        "b=\"바나나\"\n",
        "c = a\n",
        "print(a is b, a == b)\n",
        "print(a is c, a == c)"
      ],
      "metadata": {
        "id": "grla98npFQW4",
        "colab": {
          "base_uri": "https://localhost:8080/"
        },
        "outputId": "792237bb-1aa3-41d3-b05d-a1f88a09a0c5"
      },
      "execution_count": null,
      "outputs": [
        {
          "output_type": "stream",
          "name": "stdout",
          "text": [
            "True\n",
            "False\n",
            "False True\n",
            "True True\n"
          ]
        }
      ]
    },
    {
      "cell_type": "code",
      "source": [
        "#동전 교환(몫, 나머지 연산자 사용)\n",
        "# 입력 : 교환할 돈은 얼마 ? 12345\n",
        "# 출력\n",
        "#  오백원짜리 ==> 24 개\n",
        "#  백원짜리   ==> 3 개\n",
        "#  오십원짜리 ==> 0 개\n",
        "#  십원짜리   ==> 4 개\n",
        "#  바꾸지 못한 잔돈 ==> 5 원\n",
        "\n",
        "## 동전 종류별 변수\n",
        "c500, c100, c50, c10 = 0,0,0,0\n",
        "\n",
        "## 입력으로 교환 할 돈 받기\n",
        "money=int(input(\"교환할 돈은 얼마 ? \"))\n",
        "\n",
        "#몫(//), 나머지(%) 연산자를 사용하여 동전 종류별 구하기\n",
        "c500 = money // 500\n",
        "money %= 500\n",
        "\n",
        "c100 = money // 100\n",
        "money %=  100\n",
        "\n",
        "c50 = money // 50\n",
        "money %=  50\n",
        "\n",
        "c10 = money // 10\n",
        "money %=  10\n",
        "\n",
        "# 동전 종류별 출력, 바꾸지 못한 돈 출력\n",
        "print(\"\\n 오백원짜리 ==> %d 개 \" % c500)\n",
        "print(\" 백원짜리   ==> %d 개 \"% c100)\n",
        "print(\" 오십원짜리 ==> %d 개 \"% c50)\n",
        "print(\" 십원짜리   ==> %d 개 \"% c10)\n",
        "print(\" 바꾸지 못한 잔돈 ==> %d 원 \\n\"% money)\n"
      ],
      "metadata": {
        "id": "_UN3VzG7mnHN",
        "colab": {
          "base_uri": "https://localhost:8080/"
        },
        "outputId": "2a8e7062-880d-43e2-8a30-34ea4adadf93"
      },
      "execution_count": null,
      "outputs": [
        {
          "output_type": "stream",
          "name": "stdout",
          "text": [
            "교환할 돈은 얼마 ? 12345\n",
            "\n",
            " 오백원짜리 ==> 24 개 \n",
            " 백원짜리   ==> 3 개 \n",
            " 오십원짜리 ==> 0 개 \n",
            " 십원짜리   ==> 4 개 \n",
            " 바꾸지 못한 잔돈 ==> 5 원 \n",
            "\n"
          ]
        }
      ]
    }
  ]
}