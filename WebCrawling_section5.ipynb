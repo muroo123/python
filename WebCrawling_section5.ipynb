{
  "nbformat": 4,
  "nbformat_minor": 0,
  "metadata": {
    "colab": {
      "provenance": [],
      "authorship_tag": "ABX9TyMpyTa4sNb1dPonPF8Olbhd",
      "include_colab_link": true
    },
    "kernelspec": {
      "name": "python3",
      "display_name": "Python 3"
    },
    "language_info": {
      "name": "python"
    }
  },
  "cells": [
    {
      "cell_type": "markdown",
      "metadata": {
        "id": "view-in-github",
        "colab_type": "text"
      },
      "source": [
        "<a href=\"https://colab.research.google.com/github/muroo123/python/blob/main/WebCrawling_section5.ipynb\" target=\"_parent\"><img src=\"https://colab.research.google.com/assets/colab-badge.svg\" alt=\"Open In Colab\"/></a>"
      ]
    },
    {
      "cell_type": "markdown",
      "source": [
        "![image.png](data:image/png;base64,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)"
      ],
      "metadata": {
        "id": "X60m-MPDSQ5i"
      }
    },
    {
      "cell_type": "markdown",
      "source": [
        "## Naver 검색 API 서비스\n",
        "\n",
        "- 네이버 개발자센터 검색 -> https://developers.naver.com/main/\n",
        "- Documents -> API 공통 가이드에 따라 실습 -> 비로그인 방식 오픈 API 방식 선택\n",
        "- 상단 메뉴 중 Application -> 애플리케이션 등록 선택\n",
        "- <애플리케이션 등록> 애플리케이션이름, 사용 API, 비로그인 오픈 API 서비스 환경 설정\n",
        "- 등록된 API의 Client ID, Client Secret 따로 메모\n",
        "- API 공통 가이드 샘플 소스 깃허브 소스 : https://github.com/naver/naver-openapi-guide\n",
        "\n"
      ],
      "metadata": {
        "id": "08llWn7l9lrj"
      }
    },
    {
      "cell_type": "markdown",
      "source": [
        "### 검색 API\n",
        " - <개발자센터 상단 메뉴> Documents -> 서비스 API -> 검색 선택\n",
        " - 블로그 검색 가이드 확인하기\n",
        "\n"
      ],
      "metadata": {
        "id": "gfejEsIgzQ33"
      }
    },
    {
      "cell_type": "markdown",
      "source": [
        "- Client ID : DhjTWuVGyK58EfnmgsVs\n",
        "- Client Secret : JElGvx9Qpo"
      ],
      "metadata": {
        "id": "9ePH4ZWhsBHC"
      }
    },
    {
      "cell_type": "code",
      "source": [
        "# [1] 네이버 검색 API 예제 - web 검색\n",
        "import os\n",
        "import sys\n",
        "import urllib.request\n",
        "\n",
        "client_id = \"DhjTWuVGyK58EfnmgsVs\"\n",
        "client_secret = \"JElGvx9Qpo\"\n",
        "\n",
        "encText = urllib.parse.quote(\"전주 맛집\")\n",
        "\n",
        "url = \"https://openapi.naver.com/v1/search/webkr.xml?query=\" + encText # XML 결과\n",
        "\n",
        "request = urllib.request.Request(url)\n",
        "request.add_header(\"X-Naver-Client-Id\",client_id)\n",
        "request.add_header(\"X-Naver-Client-Secret\",client_secret)\n",
        "\n",
        "response = urllib.request.urlopen(request)\n",
        "rescode = response.getcode()\n",
        "if(rescode==200):\n",
        "    response_body = response.read()\n",
        "    print(response_body.decode('utf-8'))\n",
        "else:\n",
        "    print(\"Error Code:\" + rescode)"
      ],
      "metadata": {
        "colab": {
          "base_uri": "https://localhost:8080/"
        },
        "id": "kUnkj6ezzJ1N",
        "outputId": "00c34cf4-a3a7-4172-e7f1-17bfc1227a41"
      },
      "execution_count": null,
      "outputs": [
        {
          "output_type": "stream",
          "name": "stdout",
          "text": [
            "<?xml version=\"1.0\" encoding=\"UTF-8\"?><rss version=\"2.0\"><channel><title>Naver Open API - webkr ::&apos;전주 맛집&apos;</title><link>https://search.naver.com</link><description>Naver Search Result</description><lastBuildDate>Sun, 19 May 2024 12:28:08 +0900</lastBuildDate><total>7479805</total><start>1</start><display>10</display><item><title>&apos;&lt;b&gt;전주&lt;/b&gt;&apos; &lt;b&gt;맛집&lt;/b&gt; 빅데이터 추천순위 Top100 - 다이닝코드</title><link>https://www.diningcode.com/list.dc?query=%EC%A0%84%EC%A3%BC</link><description>&apos;&lt;b&gt;전주&lt;/b&gt;&apos; &lt;b&gt;맛집&lt;/b&gt; 조점례 남문피순대 (국밥, ★4.1), 현대옥 남부시장점(콩나물국밥, ★4.5), 왱이집 (콩나물국밥, ★4) 등 6,250곳의 전체 순위,식당정보,방문자리뷰,사진 등을 확인하세요.</description></item><item><title>&lt;b&gt;전주 맛집&lt;/b&gt;/음식점 추천 순위 Best 10 - Tripadvisor</title><link>https://www.tripadvisor.co.kr/Restaurants-g1143545-Jeonju_Jeollabuk_do.html</link><description>음식으로 &lt;b&gt;전주&lt;/b&gt; 탐방하기 ; 아시아 요리 ; 카페 ; 펍 ; 중국 요리 ; 미국 요리 ; 피자 ; 퓨전 ; 일본 요리 ; 해산물 ; 이탈리아 요리</description></item><item><title>&lt;b&gt;전주맛집&lt;/b&gt; &lt;b&gt;맛집&lt;/b&gt; 인기검색 순위 - 식신</title><link>https://www.siksinhot.com/search?keywords=%EC%A0%84%EC%A3%BC%EB%A7%9B%EC%A7%91</link><description>식신이 추천하는 &lt;b&gt;전주맛집&lt;/b&gt; &lt;b&gt;맛집&lt;/b&gt; 인기검색 순위의 &lt;b&gt;맛집&lt;/b&gt; 리스트결과는 20건 입니다. &lt;b&gt;전주맛집&lt;/b&gt; &lt;b&gt;맛집&lt;/b&gt; 인기검색 순위 가볼만한 곳의 메뉴, 위치, 연락처, 예약등의 매장정보를 식신이 소개합니다.</description></item><item><title>&lt;b&gt;전주맛집&lt;/b&gt; &lt;b&gt;맛집&lt;/b&gt; 인기검색 순위 - 식신</title><link>https://www.siksinhot.com/search?keywords=%20%EC%A0%84%EC%A3%BC%EB%A7%9B%EC%A7%91</link><description>식신이 추천하는 &lt;b&gt;전주맛집&lt;/b&gt; &lt;b&gt;맛집&lt;/b&gt; 인기검색 순위의 &lt;b&gt;맛집&lt;/b&gt; 리스트결과는 20건 입니다. &lt;b&gt;전주맛집&lt;/b&gt; &lt;b&gt;맛집&lt;/b&gt; 인기검색 순위 가볼만한 곳의 메뉴, 위치, 연락처, 예약등의 매장정보를 식신이 소개합니다.</description></item><item><title>전북&lt;b&gt;맛집&lt;/b&gt; - &lt;b&gt;전주&lt;/b&gt;-덕진구&lt;b&gt;맛집&lt;/b&gt; 추천 베스트10 | 식신 &lt;b&gt;맛집&lt;/b&gt;추천</title><link>https://www.siksinhot.com/taste?hpAreaId=358&amp;upHpAreaId=14</link><description>&lt;b&gt;전주&lt;/b&gt;-덕진구의 베스트 &lt;b&gt;맛집&lt;/b&gt;을 엄선하여 추천합니다. 회식, 모임, 데이트 추천 &lt;b&gt;맛집&lt;/b&gt; 정보와 고객 리뷰를 확인하세요.</description></item><item><title>&lt;b&gt;전주&lt;/b&gt;에서 식사하기 좋은 곳 베스트 10 - &lt;b&gt;전주&lt;/b&gt;의 &lt;b&gt;맛집&lt;/b&gt; 및 추천 요리 - Go Guides</title><link>https://kr.hotels.com/go/south-korea/kr-great-restaurants-jeonju</link><description>다양한 재료를 사용한 맛깔나는 음식으로 유명한 &lt;b&gt;전주&lt;/b&gt;에는 손에 꼽기 어려울 정도로 &lt;b&gt;맛집&lt;/b&gt;이 많아요. 곡창지대인 이곳은 예로부터 멋과 맛을 즐기는 문화가 있어 타지역에 비해 요리가 발달했죠. 특히 농산물과 산채, 버섯, 생선 등의 풍부한 식재료를 바탕으로 한 정성스러운 음식이 유명해요. 음식 맛이 좋기로 이름 높은 고장, &lt;b&gt;전주&lt;/b&gt;의 &lt;b&gt;맛집&lt;/b&gt;은 다른 어느 지역보다...</description></item><item><title>&lt;b&gt;전주맛집&lt;/b&gt; &lt;b&gt;전주&lt;/b&gt;집 &lt;b&gt;전주&lt;/b&gt;핫플 &lt;b&gt;전주&lt;/b&gt;가볼만한곳(@jeonju___food) • Instagram 사진 및 동영상</title><link>https://www.instagram.com/jeonju___food/</link><description>&lt;b&gt;전주&lt;/b&gt;가볼만한곳님(@jeonju___food)의 Instagram 계정: &apos;▶&lt;b&gt;전주&lt;/b&gt;에서 뭐하지? 사는 이야기 모두 알려줌 ▶&lt;b&gt;전주&lt;/b&gt; 숨은&lt;b&gt;맛집&lt;/b&gt; 카페 여행지 소개 ▶제휴문의 DM #&lt;b&gt;전주맛집&lt;/b&gt; #익산&lt;b&gt;맛집&lt;/b&gt; #군산&lt;b&gt;맛집&lt;/b&gt; #전라북도여행#&lt;b&gt;전주&lt;/b&gt;집&apos;...</description></item><item><title>&lt;b&gt;전주 맛집&lt;/b&gt; | Facebook</title><link>https://www.facebook.com/jeonjupage</link><description>&lt;b&gt;전주 맛집&lt;/b&gt;, &lt;b&gt;전주&lt;/b&gt;시. 좋아하는 사람 217,864명 · 이야기하고 있는 사람들 1,552명. 진짜 줄서서 먹는 :) &lt;b&gt;전주맛집&lt;/b&gt;만 소개 하겠습니다.</description></item><item><title>&amp;quot;제발 여기로 가세요&amp;quot; 현지인이 강력 추천하는 진짜 &lt;b&gt;전주맛집&lt;/b&gt; top8 - 발품뉴스</title><link>https://www.balpumnews.com/travel/%EC%A0%9C%EB%B0%9C-%EC%97%AC%EA%B8%B0%EB%A1%9C-%EA%B0%80%EC%84%B8%EC%9A%94-%ED%98%84%EC%A7%80%EC%9D%B8%EC%9D%B4-%EA%B0%95%EB%A0%A5-%EC%B6%94%EC%B2%9C%ED%95%98%EB%8A%94-%EC%A7%84%EC%A7%9C-%EC%A0%84</link><description>&lt;b&gt;전주&lt;/b&gt;시는 전라북도의 대표적인 관광도시 중 하나로, &lt;b&gt;전주&lt;/b&gt;한옥마을, 전동성당, 경기전, &lt;b&gt;전주&lt;/b&gt;향교 등 다양한 문화유산과 역사적인 명소가 있다. 또한 &lt;b&gt;전주&lt;/b&gt;는 &lt;b&gt;맛집&lt;/b&gt;으로도 유명하다. &lt;b&gt;전주&lt;/b&gt; 비빔밥을 대표로 하는데 이외에도 많은 &lt;b&gt;맛집&lt;/b&gt;들이 즐비해 있다. 그럼 오늘은 &lt;b&gt;전주&lt;/b&gt; 사람들이 추천하는 &lt;b&gt;맛집&lt;/b&gt;에 대해 알아보자 &lt;b&gt;전주&lt;/b&gt; 상산고등학교 인근에 위치한 연와미당은 현지인들에게 인기 있는 &lt;b&gt;맛집&lt;/b&gt;으로, 넓고 깨끗한 매장과 전용 ...</description></item><item><title>&lt;b&gt;전주&lt;/b&gt;의 현지 레스토랑 베스트 10 - 최고의 현지 음식을 맛볼 수 있는 &lt;b&gt;전주 맛집&lt;/b&gt; - Go Guides - 호텔스닷컴</title><link>https://kr.hotels.com/go/south-korea/kr-best-local-restaurants-jeonju</link><description>다우랑은 &lt;b&gt;전주&lt;/b&gt; 한옥마을에서 반드시 들러봐야 할 &lt;b&gt;맛집&lt;/b&gt;으로 소개되는 수제 만둣집이에요. 한옥마을에서도 거의 정중앙에 있어 찾아가기도 좋고, 위치가 위치인 만큼 매장도 한옥 스타일로 꾸며서 멋스러워요.</description></item></channel></rss>\n"
          ]
        }
      ]
    },
    {
      "cell_type": "code",
      "source": [
        "# [2] 검색어를 입력으로 받아서 처리\n",
        "encText = urllib.parse.quote(input(\"검색어 입력:\"))"
      ],
      "metadata": {
        "id": "c9KPdX8Q2rez"
      },
      "execution_count": null,
      "outputs": []
    },
    {
      "cell_type": "code",
      "source": [
        "# [3] api 요청변수 채우기\n",
        "display = 100  #한 번에 표시할 검색 결과 개수(기본값: 10, 최댓값: 100)\n",
        "#검색 시작 위치(기본값: 1, 최댓값: 1000)\n",
        "start   = 1\n",
        "end     = 1000"
      ],
      "metadata": {
        "id": "S0fVYNTR3Gxi"
      },
      "execution_count": null,
      "outputs": []
    },
    {
      "cell_type": "code",
      "source": [
        "# [4] BeautifulSoup를 사용하여 xml 파일을 파싱\n",
        "from bs4 import BeautifulSoup\n",
        "soup = BeautifulSoup(response, 'xml')\n",
        "print(soup.prettify())"
      ],
      "metadata": {
        "colab": {
          "base_uri": "https://localhost:8080/"
        },
        "id": "f67pRTGw4sM7",
        "outputId": "5f447f1e-7adf-4562-ddba-a7f1bdfc9ec7"
      },
      "execution_count": null,
      "outputs": [
        {
          "output_type": "stream",
          "name": "stdout",
          "text": [
            "<?xml version=\"1.0\" encoding=\"utf-8\"?>\n",
            "\n"
          ]
        }
      ]
    },
    {
      "cell_type": "code",
      "source": [
        "# [1] 네이버 검색 API 예제 - web 검색\n",
        "import os\n",
        "import sys\n",
        "import urllib.request\n",
        "from bs4 import BeautifulSoup #[4] BeautifulSoup 추가\n",
        "client_id = \"DhjTWuVGyK58EfnmgsVs\"\n",
        "client_secret = \"JElGvx9Qpo\"\n",
        "\n",
        "# [2] 검색어를 입력으로 받아서 처리\n",
        "encText = urllib.parse.quote(\"컴퓨터\")\n",
        "# encText = urllib.parse.quote(input(\"검색어 입력:\"))\n",
        "\n",
        "# [3] api 요청변수 채우기\n",
        "display = 20  #한 번에 표시할 검색 결과 개수(기본값: 10, 최댓값: 100)\n",
        "#검색 시작 위치(기본값: 1, 최댓값: 1000)\n",
        "start   = 1\n",
        "end     = 1000\n",
        "\n",
        "# url 만들기\n",
        "url = \"https://openapi.naver.com/v1/search/webkr.xml?query=\" + encText + \"&display=\" +  str(display) + \"&start=\" + str(start)\n",
        "print(url)\n",
        "\n",
        "request = urllib.request.Request(url)\n",
        "request.add_header(\"X-Naver-Client-Id\",client_id)\n",
        "request.add_header(\"X-Naver-Client-Secret\",client_secret)\n",
        "\n",
        "response = urllib.request.urlopen(request)\n",
        "\n",
        "rescode = response.getcode()\n",
        "#오류코드 확인 후 결과 처리\n",
        "if(rescode==200):\n",
        "    # [4] BeautifulSoup를 사용하여 xml 파일을 파싱\n",
        "    soup = BeautifulSoup(response, 'xml')\n",
        "    print(soup.prettify())\n",
        "else:\n",
        "    print(\"Error Code:\" + rescode)\n",
        "\n",
        "\n"
      ],
      "metadata": {
        "colab": {
          "base_uri": "https://localhost:8080/"
        },
        "id": "IG6tFioP5OGD",
        "outputId": "22dd06a7-5f6e-45e4-f538-c0faf2aa5f7d"
      },
      "execution_count": null,
      "outputs": [
        {
          "output_type": "stream",
          "name": "stdout",
          "text": [
            "https://openapi.naver.com/v1/search/webkr.xml?query=%EC%BB%B4%ED%93%A8%ED%84%B0&display=20&start=1\n",
            "<?xml version=\"1.0\" encoding=\"utf-8\"?>\n",
            "<rss version=\"2.0\">\n",
            " <channel>\n",
            "  <title>\n",
            "   Naver Open API - webkr ::'컴퓨터'\n",
            "  </title>\n",
            "  <link>\n",
            "   https://search.naver.com\n",
            "  </link>\n",
            "  <description>\n",
            "   Naver Search Result\n",
            "  </description>\n",
            "  <lastBuildDate>\n",
            "   Mon, 20 May 2024 09:42:22 +0900\n",
            "  </lastBuildDate>\n",
            "  <total>\n",
            "   280254350\n",
            "  </total>\n",
            "  <start>\n",
            "   1\n",
            "  </start>\n",
            "  <display>\n",
            "   20\n",
            "  </display>\n",
            "  <item>\n",
            "   <title>\n",
            "    &lt;b&gt;컴퓨터&lt;/b&gt; - 위키백과 한국어\n",
            "   </title>\n",
            "   <link>\n",
            "    https://ko.wikipedia.org/wiki/%EC%BB%B4%ED%93%A8%ED%84%B0\n",
            "   </link>\n",
            "   <description>\n",
            "    &lt;b&gt;컴퓨터&lt;/b&gt; ( 영어: computer , 문화어: 콤퓨터 , 콤퓨타 , 순화어: 전산기(電算機), 셈틀 )는 방대한 정보(데이터)를 저장 하고 검색 하고 처리 하며, 프로그래밍이 가능한 전자적 기계 장치 또는 자동 으로 계산 (연산)을 수행하고 다른 기계장치(machines)들을 제어하는 전자 기기다. 프로그램을 사용해 정보 를 입...\n",
            "   </description>\n",
            "  </item>\n",
            "  <item>\n",
            "   <title>\n",
            "    &lt;b&gt;컴퓨터&lt;/b&gt; - 나무위키\n",
            "   </title>\n",
            "   <link>\n",
            "    https://namu.wiki/w/%EC%BB%B4%ED%93%A8%ED%84%B0\n",
            "   </link>\n",
            "   <description>\n",
            "    Computer 이진법을 이용하여 논리 연산, 저장을 수행하는 전자 기계.\n",
            "   </description>\n",
            "  </item>\n",
            "  <item>\n",
            "   <title>\n",
            "    다나와 &lt;b&gt;컴퓨터&lt;/b&gt;\n",
            "   </title>\n",
            "   <link>\n",
            "    https://www.danawa.com/pc/\n",
            "   </link>\n",
            "   <description>\n",
            "    온라인 쇼핑몰, 오픈마켓, 소셜커머스, 백화점, 전문몰 등 전 상품 정보 가격비교 사이트, 비교하면 다나와\n",
            "   </description>\n",
            "  </item>\n",
            "  <item>\n",
            "   <title>\n",
            "    &lt;b&gt;컴퓨터&lt;/b&gt; - 현대Hmall\n",
            "   </title>\n",
            "   <link>\n",
            "    https://www.hmall.com/pd/dpa/searchSectItem?sectId=2731271\n",
            "   </link>\n",
            "   <description>\n",
            "    Hmall &amp;gt; Hmall 카테고리 &amp;gt; 노트북/PC/게임 &amp;gt; &lt;b&gt;컴퓨터&lt;/b&gt;\n",
            "   </description>\n",
            "  </item>\n",
            "  <item>\n",
            "   <title>\n",
            "    다나와\n",
            "   </title>\n",
            "   <link>\n",
            "    https://www.danawa.com/\n",
            "   </link>\n",
            "   <description>\n",
            "    가격비교 사이트. 가전, &lt;b&gt;컴퓨터&lt;/b&gt;, 자동차, 노트북, 휴대폰, 아웃도어, 생활용품 등 실시간 가격비교 제공.\n",
            "   </description>\n",
            "  </item>\n",
            "  <item>\n",
            "   <title>\n",
            "    PC - 나무위키\n",
            "   </title>\n",
            "   <link>\n",
            "    https://namu.wiki/w/PC\n",
            "   </link>\n",
            "   <description>\n",
            "    개인용 &lt;b&gt;컴퓨터&lt;/b&gt;(Personal Computer). 주로 'PC'라는 약칭으로 부른다. 개인용 &lt;b&gt;컴퓨터&lt;/b&gt;는 기업, 기관 및 소수의 전문가들이 독점하던 &lt;b&gt;컴퓨터&lt;/b&gt;라는 도구를 일반 대중의 손에 전해줌으로써 정보화 사회의 기틀을 마련해준...\n",
            "   </description>\n",
            "  </item>\n",
            "  <item>\n",
            "   <title>\n",
            "    분류:&lt;b&gt;컴퓨터&lt;/b&gt; - 나무위키\n",
            "   </title>\n",
            "   <link>\n",
            "    https://namu.wiki/w/%EB%B6%84%EB%A5%98:%EC%BB%B4%ED%93%A8%ED%84%B0\n",
            "   </link>\n",
            "   <description>\n",
            "    &lt;b&gt;컴퓨터&lt;/b&gt;에 해당하는 378개 문서를 확인할 수 있습니다.\n",
            "   </description>\n",
            "  </item>\n",
            "  <item>\n",
            "   <title>\n",
            "    &lt;b&gt;컴퓨터&lt;/b&gt; 본체 갤러리 - 커뮤니티 포털 디시인사이드\n",
            "   </title>\n",
            "   <link>\n",
            "    https://gall.dcinside.com/board/lists/?id=pridepc_new4\n",
            "   </link>\n",
            "   <description>\n",
            "    디지털/IT 카테고리로 분류된 &lt;b&gt;컴퓨터&lt;/b&gt; 본체 갤러리입니다. &lt;b&gt;컴퓨터&lt;/b&gt; 본체 갤러리에 다양한 이야기를 남겨주세요.\n",
            "   </description>\n",
            "  </item>\n",
            "  <item>\n",
            "   <title>\n",
            "    양자 &lt;b&gt;컴퓨터&lt;/b&gt; - 위키백과 한국어\n",
            "   </title>\n",
            "   <link>\n",
            "    https://ko.wikipedia.org/wiki/%EC%96%91%EC%9E%90_%EC%BB%B4%ED%93%A8%ED%84%B0\n",
            "   </link>\n",
            "   <description>\n",
            "    양자 &lt;b&gt;컴퓨터&lt;/b&gt; (quantum computer)는 얽힘(entanglement)이나 중첩(superposition) 같은 양자역학적인 현상을 활용하여 자료를 처리하는 계산 기계이다. 또한 그러한 방법을 '양자 컴퓨팅'(quantum computing)이라고도 한다. 양자 컴퓨팅은 &lt;b&gt;컴퓨터&lt;/b&gt; 과학, 물리학, 수학의 여러 측면으로 이루어진 종합적 분야로서 양...\n",
            "   </description>\n",
            "  </item>\n",
            "  <item>\n",
            "   <title>\n",
            "    와이고수 - &lt;b&gt;컴퓨터&lt;/b&gt;\n",
            "   </title>\n",
            "   <link>\n",
            "    https://ygosu.com/board/computer\n",
            "   </link>\n",
            "   <description>\n",
            "    &lt;b&gt;컴퓨터&lt;/b&gt; 전체글 | 인기글 와이고수 유저들을 위한 5월 표준견적.txt (인텔 작업용 제외) ( 3 )... 05.09 6 견적 형님들 한번만 도와주십쇼 ㅜㅜ ( 1 ) 컴린이입니당 167 2024.05.09 - &lt;b&gt;컴퓨터&lt;/b&gt;의 인기글\n",
            "   </description>\n",
            "  </item>\n",
            "  <item>\n",
            "   <title>\n",
            "    &lt;b&gt;컴퓨터&lt;/b&gt; 무선 와이파이 연결 방법(&lt;b&gt;컴퓨터&lt;/b&gt; 와이파이 설정)\n",
            "   </title>\n",
            "   <link>\n",
            "    https://changwoos.tistory.com/202\n",
            "   </link>\n",
            "   <description>\n",
            "    오늘은 &lt;b&gt;컴퓨터&lt;/b&gt; 무선 와이파이 연결 방법에 대해서 알아보도록 하겠습니다. &lt;b&gt;컴퓨터&lt;/b&gt;(데스크탑)에도 와이파이를 연결할 수 있다는 사실을 아시나요? &lt;b&gt;컴퓨터&lt;/b&gt;에는 일반적으로 노트북이나 스마트폰처럼 무선 와이파이 연결 기능이 없기 때문에 와이파이를 잡기 위해서는 랜카드가 필요하게 됩니다. &lt;b&gt;컴퓨터&lt;/b&gt; 자체적으로 와이파이 연결 기능이 내장되어 있을 수도 있기 때문에 랜카드...\n",
            "   </description>\n",
            "  </item>\n",
            "  <item>\n",
            "   <title>\n",
            "    &lt;b&gt;컴퓨터&lt;/b&gt;본체 추천 사무용 게이밍 겸용 TOP 7 - 탑7리뷰\n",
            "   </title>\n",
            "   <link>\n",
            "    https://t7review.com/%EC%BB%B4%ED%93%A8%ED%84%B0-%EB%B3%B8%EC%B2%B4-%EC%B6%94%EC%B2%9C/\n",
            "   </link>\n",
            "   <description>\n",
            "    인기있는 &lt;b&gt;컴퓨터&lt;/b&gt;본체 추천 제품 6가지를 알아봅니다. PC온스튜디오, 바른&lt;b&gt;컴퓨터&lt;/b&gt;, 컴온컴퍼니, 한성&lt;b&gt;컴퓨터&lt;/b&gt;,삼성데스크탑, 이그닉 리트 브랜드 제품을 알아봅니다.또, &lt;b&gt;컴퓨터&lt;/b&gt; 본체는 어떻게 구매해야 하는지도 공개합니다.\n",
            "   </description>\n",
            "  </item>\n",
            "  <item>\n",
            "   <title>\n",
            "    내 &lt;b&gt;컴퓨터&lt;/b&gt; 사양 확인 하기 (윈도우10/운영 체제, CPU, RAM, 그래픽 카드) | Sony KR\n",
            "   </title>\n",
            "   <link>\n",
            "    https://www.sony.co.kr/electronics/support/articles/00240839\n",
            "   </link>\n",
            "   <description>\n",
            "    Windows 10 내 &lt;b&gt;컴퓨터&lt;/b&gt;의 사양 확인하기와 관련하여 안내 드리오니, 아래 사항을 참고 바랍니다. 아래와 같은 방법으로 내 &lt;b&gt;컴퓨터&lt;/b&gt;의 사양을 알... 내 &lt;b&gt;컴퓨터&lt;/b&gt;를 오른쪽 마우스로 클릭한 뒤, 속성을 클릭합니다. 5....\n",
            "   </description>\n",
            "  </item>\n",
            "  <item>\n",
            "   <title>\n",
            "    뽐뿌 - &lt;b&gt;컴퓨터&lt;/b&gt;포럼\n",
            "   </title>\n",
            "   <link>\n",
            "    https://www.ppomppu.co.kr/zboard/zboard.php?id=computer\n",
            "   </link>\n",
            "   <description>\n",
            "    - 2010년 2월 24일 13/10/24 0 4324677 공지 (핵스압) 왕초보 컴알못의 &lt;b&gt;컴퓨터&lt;/b&gt; 조립기~ (&lt;b&gt;컴퓨터&lt;/b&gt;... [바로가기] 23/03/22 0 AD 견적왕 &lt;b&gt;컴퓨터&lt;/b&gt; 견적 구성하는 방법 및 24년 3월 최신 추천견적! 24/03/05...\n",
            "   </description>\n",
            "  </item>\n",
            "  <item>\n",
            "   <title>\n",
            "    핸드폰 사진 &lt;b&gt;컴퓨터&lt;/b&gt;로 옮기기 방법 6가지\n",
            "   </title>\n",
            "   <link>\n",
            "    https://anchoki.tistory.com/1109\n",
            "   </link>\n",
            "   <description>\n",
            "    안드로이드 스마트폰 기준 핸드폰 사진 &lt;b&gt;컴퓨터&lt;/b&gt;로 옮기기 방법은 여러가지 방법이 있다. 예전부터 가장 쉽게 사용할 수 있는 방법은 &lt;b&gt;컴퓨터&lt;/b&gt;에 USB 케이블을 연결하는 방법이 있지만, 요즘은 샌드애니웨어 등 USB 케이블 없이 무선으로도 &lt;b&gt;컴퓨터&lt;/b&gt;로 사진을 옮길 수 있는 방법이 여러가지 있다. 매번 선을 찾아 연결하는 것은 귀찮은 일이다. 요즘은 스마트폰에서 바...\n",
            "   </description>\n",
            "  </item>\n",
            "  <item>\n",
            "   <title>\n",
            "    &lt;b&gt;컴퓨터&lt;/b&gt;렌탈, 게이밍&lt;b&gt;컴퓨터&lt;/b&gt;렌탈, PC렌탈, 본체렌탈, 데스크탑렌탈 | 가전렌탈 , 가전제품렌탈 - 빌리고\n",
            "   </title>\n",
            "   <link>\n",
            "    https://xn--299ar6vqrd.com/model/list.php?ca_id=008015\n",
            "   </link>\n",
            "   <description>\n",
            "    &lt;b&gt;컴퓨터&lt;/b&gt;렌탈,아싸컴,&lt;b&gt;컴퓨터&lt;/b&gt;렌탈,게이밍&lt;b&gt;컴퓨터&lt;/b&gt;렌탈,PC렌탈,본체렌탈,데스크탑렌탈,개인PC렌탈,렌탈PC,게이밍PC렌탈,피씨렌탈,조립PC렌탈,렌탈&lt;b&gt;컴퓨터&lt;/b&gt;,가정용피씨렌탈,사무용피씨렌탈,사무실피씨렌탈,고성능PC렌탈,고성능피씨렌탈,고사양&lt;b&gt;컴퓨터&lt;/b&gt;,고성능&lt;b&gt;컴퓨터&lt;/b&gt;,인텔,AMD,롤,리그오브레전드,피파온라인4,서든어택,로스트아크,발로란트,전용PC,그래픽,포토샵,일러스트,오토캐드,...\n",
            "   </description>\n",
            "  </item>\n",
            "  <item>\n",
            "   <title>\n",
            "    &lt;b&gt;컴퓨터&lt;/b&gt; 포맷하는 법 - wikiHow\n",
            "   </title>\n",
            "   <link>\n",
            "    https://ko.wikihow.com/%EC%BB%B4%ED%93%A8%ED%84%B0-%ED%8F%AC%EB%A7%B7%ED%95%98%EB%8A%94-%EB%B2%95\n",
            "   </link>\n",
            "   <description>\n",
            "    &lt;b&gt;컴퓨터&lt;/b&gt; 포맷하는 법. 이 위키하우를 읽고 윈도우즈 혹은 macOS의 &lt;b&gt;컴퓨터&lt;/b&gt;의 운영체제를 포함한 모든 데이터를 삭제하는 방법을 알아보자. &lt;b&gt;컴퓨터&lt;/b&gt;를 포맷하면 하드 드라이브의 모든 데이터가 삭제되며, 윈도우즈 혹은 macOS를 재설치할 수 있다. &lt;b&gt;컴퓨터&lt;/b&gt;가 제대로 작동하지 않거나, &lt;b&gt;컴퓨터&lt;/b&gt; 판매를 앞두고 있기 때문에 데이터가 노출되지 않도록 삭제하고 싶을 때...\n",
            "   </description>\n",
            "  </item>\n",
            "  <item>\n",
            "   <title>\n",
            "    &lt;b&gt;컴퓨터&lt;/b&gt; 고장 정보 - 나무위키\n",
            "   </title>\n",
            "   <link>\n",
            "    https://namu.wiki/w/%EC%BB%B4%ED%93%A8%ED%84%B0%20%EA%B3%A0%EC%9E%A5%20%EC%A0%95%EB%B3%B4\n",
            "   </link>\n",
            "   <description>\n",
            "    설명하기에 앞서, 모든 전자기기는 전원을 끄고 재가동해 보는 것이 수리의 시작이다.\n",
            "   </description>\n",
            "  </item>\n",
            "  <item>\n",
            "   <title>\n",
            "    &lt;b&gt;컴퓨터&lt;/b&gt;\n",
            "   </title>\n",
            "   <link>\n",
            "    http://www.ktword.co.kr/test/view/view.php?no=6012\n",
            "   </link>\n",
            "   <description>\n",
            "    &lt;b&gt;컴퓨터&lt;/b&gt; (Computer) ㅇ 계산 기계, 정보처리 기기 2. &lt;b&gt;컴퓨터&lt;/b&gt;의 구성 ㅇ 하드웨어 : CPU, 기억장치(메모리... &lt;b&gt;컴퓨터&lt;/b&gt;의 특징 ㅇ 구조적 특징 (하드웨어) - 구성 요소 . CPU (ALU,제어장치,레지스터), 기억장치...\n",
            "   </description>\n",
            "  </item>\n",
            "  <item>\n",
            "   <title>\n",
            "    &lt;b&gt;컴퓨터&lt;/b&gt; 용량 줄이기 (&lt;b&gt;컴퓨터&lt;/b&gt; 속도 향상) - 초간단 3가지 - All Honey Tip\n",
            "   </title>\n",
            "   <link>\n",
            "    https://allhoneytip.com/%EC%BB%B4%ED%93%A8%ED%84%B0-%EC%9A%A9%EB%9F%89-%EC%A4%84%EC%9D%B4%EA%B8%B0-%EC%BB%B4%ED%93%A8%ED%84%B0-%EC%86%8D%EB%8F%84-%ED%96%A5%EC%83%81-%EC%B4%88%EA%B0%84%EB%8B%A8-3%EA%B0%80%EC%A7%80/\n",
            "   </link>\n",
            "   <description>\n",
            "    &lt;b&gt;컴퓨터&lt;/b&gt; 용량 줄이기 (&lt;b&gt;컴퓨터&lt;/b&gt; 속도 향상)에 대해 알아보겠습니다. 간단하게 &lt;b&gt;컴퓨터&lt;/b&gt; 저장 공간을 정리할 수 있으니 따라해보세요 :)\n",
            "   </description>\n",
            "  </item>\n",
            " </channel>\n",
            "</rss>\n",
            "\n"
          ]
        }
      ]
    },
    {
      "cell_type": "code",
      "source": [
        "# [5] XML파일에서 쓸모있는 데이터들은 모두 item태그에 있기 때문에 find_all 메서드를 사용하여 item태그를 가져옵니다.\n",
        "item = soup.find_all('item')\n",
        "# 총 데이타 확인\n",
        "print(len(item))\n"
      ],
      "metadata": {
        "id": "WVuVz1oGniQ8",
        "colab": {
          "base_uri": "https://localhost:8080/"
        },
        "outputId": "cbfde98d-a404-465f-c646-739f87aa496d"
      },
      "execution_count": null,
      "outputs": [
        {
          "output_type": "stream",
          "name": "stdout",
          "text": [
            "20\n"
          ]
        }
      ]
    },
    {
      "cell_type": "code",
      "source": [
        "# 첫번째 데이타 확인\n",
        "print(item[0])"
      ],
      "metadata": {
        "colab": {
          "base_uri": "https://localhost:8080/"
        },
        "id": "l3x23qX3Ez8J",
        "outputId": "4e64ac9a-40f6-49a7-fdec-33d440004142"
      },
      "execution_count": null,
      "outputs": [
        {
          "output_type": "stream",
          "name": "stdout",
          "text": [
            "<item><title>&lt;b&gt;컴퓨터&lt;/b&gt; - 위키백과 한국어</title><link>https://ko.wikipedia.org/wiki/%EC%BB%B4%ED%93%A8%ED%84%B0</link><description>&lt;b&gt;컴퓨터&lt;/b&gt; ( 영어: computer , 문화어: 콤퓨터 , 콤퓨타 , 순화어: 전산기(電算機), 셈틀 )는 방대한 정보(데이터)를 저장 하고 검색 하고 처리 하며, 프로그래밍이 가능한 전자적 기계 장치 또는 자동 으로 계산 (연산)을 수행하고 다른 기계장치(machines)들을 제어하는 전자 기기다. 프로그램을 사용해 정보 를 입...</description></item>\n"
          ]
        }
      ]
    },
    {
      "cell_type": "code",
      "source": [
        "# 두번째 데이타 확인\n",
        "print(item[1])"
      ],
      "metadata": {
        "colab": {
          "base_uri": "https://localhost:8080/"
        },
        "id": "iMYVPGGNcYpj",
        "outputId": "04165bac-8722-4db3-eae5-dc59d081f269"
      },
      "execution_count": null,
      "outputs": [
        {
          "output_type": "stream",
          "name": "stdout",
          "text": [
            "<item><title>&lt;b&gt;컴퓨터&lt;/b&gt; - 나무위키</title><link>https://namu.wiki/w/%EC%BB%B4%ED%93%A8%ED%84%B0</link><description>Computer 이진법을 이용하여 논리 연산, 저장을 수행하는 전자 기계.</description></item>\n"
          ]
        }
      ]
    },
    {
      "cell_type": "code",
      "source": [
        "# [6] 반복문으로 전체 데이타 뽑아내기\n",
        "# 반환값 중 필요한 칼럼 확인\n",
        "# title : 웹 문서의 제목. 제목에서 검색어와 일치하는 부분은 <b> 태그로 감싸져 있습니다.\n",
        "# link :  웹 문서의 URL\n",
        "# description : 웹 문서의 내용을 요약한 패시지 정보. 패시지 정보에서 검색어와 일치하는 부분은 <b> 태그로 감싸져 있습니다.\n",
        "\n",
        "for idx in range(0,len(item)):\n",
        "    item_dict= {}\n",
        "    item_dict['title'] = item[idx].find('title').text\n",
        "    item_dict['link'] = item[idx].find('link').text\n",
        "    item_dict['description'] = item[idx].find('description').text\n",
        "    print(item_dict)\n"
      ],
      "metadata": {
        "colab": {
          "base_uri": "https://localhost:8080/"
        },
        "id": "c8B_lRYP6XoA",
        "outputId": "b873126a-a317-4b08-a882-88ffd382d4cc"
      },
      "execution_count": null,
      "outputs": [
        {
          "output_type": "stream",
          "name": "stdout",
          "text": [
            "{'title': '<b>컴퓨터</b> - 위키백과 한국어', 'link': 'https://ko.wikipedia.org/wiki/%EC%BB%B4%ED%93%A8%ED%84%B0', 'description': '<b>컴퓨터</b> ( 영어: computer , 문화어: 콤퓨터 , 콤퓨타 , 순화어: 전산기(電算機), 셈틀 )는 방대한 정보(데이터)를 저장 하고 검색 하고 처리 하며, 프로그래밍이 가능한 전자적 기계 장치 또는 자동 으로 계산 (연산)을 수행하고 다른 기계장치(machines)들을 제어하는 전자 기기다. 프로그램을 사용해 정보 를 입...'}\n",
            "{'title': '<b>컴퓨터</b> - 나무위키', 'link': 'https://namu.wiki/w/%EC%BB%B4%ED%93%A8%ED%84%B0', 'description': 'Computer 이진법을 이용하여 논리 연산, 저장을 수행하는 전자 기계.'}\n",
            "{'title': '다나와 <b>컴퓨터</b>', 'link': 'https://www.danawa.com/pc/', 'description': '온라인 쇼핑몰, 오픈마켓, 소셜커머스, 백화점, 전문몰 등 전 상품 정보 가격비교 사이트, 비교하면 다나와'}\n",
            "{'title': '<b>컴퓨터</b> - 현대Hmall', 'link': 'https://www.hmall.com/pd/dpa/searchSectItem?sectId=2731271', 'description': 'Hmall &gt; Hmall 카테고리 &gt; 노트북/PC/게임 &gt; <b>컴퓨터</b>'}\n",
            "{'title': '다나와', 'link': 'https://www.danawa.com/', 'description': '가격비교 사이트. 가전, <b>컴퓨터</b>, 자동차, 노트북, 휴대폰, 아웃도어, 생활용품 등 실시간 가격비교 제공.'}\n",
            "{'title': '분류:<b>컴퓨터</b> - 나무위키', 'link': 'https://namu.wiki/w/%EB%B6%84%EB%A5%98:%EC%BB%B4%ED%93%A8%ED%84%B0', 'description': '<b>컴퓨터</b>에 해당하는 378개 문서를 확인할 수 있습니다.'}\n",
            "{'title': '<b>컴퓨터</b> 본체 갤러리 - 커뮤니티 포털 디시인사이드', 'link': 'https://gall.dcinside.com/board/lists/?id=pridepc_new4', 'description': '디지털/IT 카테고리로 분류된 <b>컴퓨터</b> 본체 갤러리입니다. <b>컴퓨터</b> 본체 갤러리에 다양한 이야기를 남겨주세요.'}\n",
            "{'title': '와이고수 - <b>컴퓨터</b>', 'link': 'https://ygosu.com/board/computer', 'description': '<b>컴퓨터</b> 전체글 | 인기글 와이고수 유저들을 위한 5월 표준견적.txt (인텔 작업용 제외) ( 3 )... 05.09 6 견적 형님들 한번만 도와주십쇼 ㅜㅜ ( 1 ) 컴린이입니당 167 2024.05.09 - <b>컴퓨터</b>의 인기글'}\n",
            "{'title': '양자 <b>컴퓨터</b> - 위키백과 한국어', 'link': 'https://ko.wikipedia.org/wiki/%EC%96%91%EC%9E%90_%EC%BB%B4%ED%93%A8%ED%84%B0', 'description': \"양자 <b>컴퓨터</b> (quantum computer)는 얽힘(entanglement)이나 중첩(superposition) 같은 양자역학적인 현상을 활용하여 자료를 처리하는 계산 기계이다. 또한 그러한 방법을 '양자 컴퓨팅'(quantum computing)이라고도 한다. 양자 컴퓨팅은 <b>컴퓨터</b> 과학, 물리학, 수학의 여러 측면으로 이루어진 종합적 분야로서 양...\"}\n",
            "{'title': '<b>컴퓨터</b> 무선 와이파이 연결 방법(<b>컴퓨터</b> 와이파이 설정)', 'link': 'https://changwoos.tistory.com/202', 'description': '오늘은 <b>컴퓨터</b> 무선 와이파이 연결 방법에 대해서 알아보도록 하겠습니다. <b>컴퓨터</b>(데스크탑)에도 와이파이를 연결할 수 있다는 사실을 아시나요? <b>컴퓨터</b>에는 일반적으로 노트북이나 스마트폰처럼 무선 와이파이 연결 기능이 없기 때문에 와이파이를 잡기 위해서는 랜카드가 필요하게 됩니다. <b>컴퓨터</b> 자체적으로 와이파이 연결 기능이 내장되어 있을 수도 있기 때문에 랜카드...'}\n",
            "{'title': '뽐뿌 - <b>컴퓨터</b>포럼', 'link': 'https://www.ppomppu.co.kr/zboard/zboard.php?id=computer', 'description': '- 2010년 2월 24일 13/10/24 0 4324677 공지 (핵스압) 왕초보 컴알못의 <b>컴퓨터</b> 조립기~ (<b>컴퓨터</b>... [바로가기] 23/03/22 0 AD 견적왕 <b>컴퓨터</b> 견적 구성하는 방법 및 24년 3월 최신 추천견적! 24/03/05...'}\n",
            "{'title': '체험판의 <b>컴퓨터</b> 채널', 'link': 'https://cafe.naver.com/archdevel', 'description': '약 7.7만 명의 회원을 보유한 체험판의 <b>컴퓨터</b> 채널카페 (가지4단계 등급)입니다. 체험판의 <b>컴퓨터</b> 채널입니다. 커뮤니티 결속과 의견반영을 위해 개설하였습니다.'}\n",
            "{'title': '<b>컴퓨터</b>본체 추천 사무용 게이밍 겸용 TOP 7 - 탑7리뷰', 'link': 'https://t7review.com/%EC%BB%B4%ED%93%A8%ED%84%B0-%EB%B3%B8%EC%B2%B4-%EC%B6%94%EC%B2%9C/', 'description': '인기있는 <b>컴퓨터</b>본체 추천 제품 6가지를 알아봅니다. PC온스튜디오, 바른<b>컴퓨터</b>, 컴온컴퍼니, 한성<b>컴퓨터</b>,삼성데스크탑, 이그닉 리트 브랜드 제품을 알아봅니다.또, <b>컴퓨터</b> 본체는 어떻게 구매해야 하는지도 공개합니다.'}\n",
            "{'title': '내 <b>컴퓨터</b> 사양 확인 하기 (윈도우10/운영 체제, CPU, RAM, 그래픽 카드) | Sony KR', 'link': 'https://www.sony.co.kr/electronics/support/articles/00240839', 'description': 'Windows 10 내 <b>컴퓨터</b>의 사양 확인하기와 관련하여 안내 드리오니, 아래 사항을 참고 바랍니다. 아래와 같은 방법으로 내 <b>컴퓨터</b>의 사양을 알... 내 <b>컴퓨터</b>를 오른쪽 마우스로 클릭한 뒤, 속성을 클릭합니다. 5....'}\n",
            "{'title': '핸드폰 사진 <b>컴퓨터</b>로 옮기기 방법 6가지', 'link': 'https://anchoki.tistory.com/1109', 'description': '안드로이드 스마트폰 기준 핸드폰 사진 <b>컴퓨터</b>로 옮기기 방법은 여러가지 방법이 있다. 예전부터 가장 쉽게 사용할 수 있는 방법은 <b>컴퓨터</b>에 USB 케이블을 연결하는 방법이 있지만, 요즘은 샌드애니웨어 등 USB 케이블 없이 무선으로도 <b>컴퓨터</b>로 사진을 옮길 수 있는 방법이 여러가지 있다. 매번 선을 찾아 연결하는 것은 귀찮은 일이다. 요즘은 스마트폰에서 바...'}\n",
            "{'title': '<b>컴퓨터</b> 고장 정보 - 나무위키', 'link': 'https://namu.wiki/w/%EC%BB%B4%ED%93%A8%ED%84%B0%20%EA%B3%A0%EC%9E%A5%20%EC%A0%95%EB%B3%B4', 'description': '설명하기에 앞서, 모든 전자기기는 전원을 끄고 재가동해 보는 것이 수리의 시작이다.'}\n",
            "{'title': '<b>컴퓨터</b>렌탈, 게이밍<b>컴퓨터</b>렌탈, PC렌탈, 본체렌탈, 데스크탑렌탈 | 가전렌탈 , 가전제품렌탈 - 빌리고', 'link': 'https://xn--299ar6vqrd.com/model/list.php?ca_id=008015', 'description': '<b>컴퓨터</b>렌탈,아싸컴,<b>컴퓨터</b>렌탈,게이밍<b>컴퓨터</b>렌탈,PC렌탈,본체렌탈,데스크탑렌탈,개인PC렌탈,렌탈PC,게이밍PC렌탈,피씨렌탈,조립PC렌탈,렌탈<b>컴퓨터</b>,가정용피씨렌탈,사무용피씨렌탈,사무실피씨렌탈,고성능PC렌탈,고성능피씨렌탈,고사양<b>컴퓨터</b>,고성능<b>컴퓨터</b>,인텔,AMD,롤,리그오브레전드,피파온라인4,서든어택,로스트아크,발로란트,전용PC,그래픽,포토샵,일러스트,오토캐드,...'}\n",
            "{'title': '<b>컴퓨터</b> 용량 줄이기 (<b>컴퓨터</b> 속도 향상) - 초간단 3가지 - All Honey Tip', 'link': 'https://allhoneytip.com/%EC%BB%B4%ED%93%A8%ED%84%B0-%EC%9A%A9%EB%9F%89-%EC%A4%84%EC%9D%B4%EA%B8%B0-%EC%BB%B4%ED%93%A8%ED%84%B0-%EC%86%8D%EB%8F%84-%ED%96%A5%EC%83%81-%EC%B4%88%EA%B0%84%EB%8B%A8-3%EA%B0%80%EC%A7%80/', 'description': '<b>컴퓨터</b> 용량 줄이기 (<b>컴퓨터</b> 속도 향상)에 대해 알아보겠습니다. 간단하게 <b>컴퓨터</b> 저장 공간을 정리할 수 있으니 따라해보세요 :)'}\n",
            "{'title': '<b>컴퓨터</b> 포맷하는 법 - wikiHow', 'link': 'https://ko.wikihow.com/%EC%BB%B4%ED%93%A8%ED%84%B0-%ED%8F%AC%EB%A7%B7%ED%95%98%EB%8A%94-%EB%B2%95', 'description': '<b>컴퓨터</b> 포맷하는 법. 이 위키하우를 읽고 윈도우즈 혹은 macOS의 <b>컴퓨터</b>의 운영체제를 포함한 모든 데이터를 삭제하는 방법을 알아보자. <b>컴퓨터</b>를 포맷하면 하드 드라이브의 모든 데이터가 삭제되며, 윈도우즈 혹은 macOS를 재설치할 수 있다. <b>컴퓨터</b>가 제대로 작동하지 않거나, <b>컴퓨터</b> 판매를 앞두고 있기 때문에 데이터가 노출되지 않도록 삭제하고 싶을 때...'}\n",
            "{'title': '<b>컴퓨터</b> - 오늘의유머', 'link': 'http://www.todayhumor.co.kr/board/list.php?table=computer', 'description': '<b>컴퓨터</b>게시판은 <b>컴퓨터</b>에 관한 정보 교류를 위한 곳입니다.'}\n"
          ]
        }
      ]
    },
    {
      "cell_type": "code",
      "source": [
        "# [7] Regular expression을 사용하여 <b> </b> 태그 제외\n",
        "# https://docs.python.org/ko/3/library/re.html\n",
        "\n",
        "import re\n",
        "remove_tag = re.compile('<.*?>')\n",
        "\n",
        "for idx in range(0,len(item)):\n",
        "    title = re.sub(remove_tag,'',item[idx].find('title').text)\n",
        "    link = item[idx].find('link').text\n",
        "    description = re.sub(remove_tag,'',item[idx].find('description').text)\n",
        "    print(title, link,description)\n",
        "\n"
      ],
      "metadata": {
        "id": "mR4Unm9Yxlkj",
        "colab": {
          "base_uri": "https://localhost:8080/"
        },
        "outputId": "f3ade554-7ca7-4289-ec97-cadfde6c9187"
      },
      "execution_count": null,
      "outputs": [
        {
          "output_type": "stream",
          "name": "stdout",
          "text": [
            "컴퓨터 - 위키백과 한국어 https://ko.wikipedia.org/wiki/%EC%BB%B4%ED%93%A8%ED%84%B0 컴퓨터 ( 영어: computer , 문화어: 콤퓨터 , 콤퓨타 , 순화어: 전산기(電算機), 셈틀 )는 방대한 정보(데이터)를 저장 하고 검색 하고 처리 하며, 프로그래밍이 가능한 전자적 기계 장치 또는 자동 으로 계산 (연산)을 수행하고 다른 기계장치(machines)들을 제어하는 전자 기기다. 프로그램을 사용해 정보 를 입...\n",
            "컴퓨터 - 나무위키 https://namu.wiki/w/%EC%BB%B4%ED%93%A8%ED%84%B0 Computer 이진법을 이용하여 논리 연산, 저장을 수행하는 전자 기계.\n",
            "다나와 컴퓨터 https://www.danawa.com/pc/ 온라인 쇼핑몰, 오픈마켓, 소셜커머스, 백화점, 전문몰 등 전 상품 정보 가격비교 사이트, 비교하면 다나와\n",
            "컴퓨터 - 현대Hmall https://www.hmall.com/pd/dpa/searchSectItem?sectId=2731271 Hmall &gt; Hmall 카테고리 &gt; 노트북/PC/게임 &gt; 컴퓨터\n",
            "다나와 https://www.danawa.com/ 가격비교 사이트. 가전, 컴퓨터, 자동차, 노트북, 휴대폰, 아웃도어, 생활용품 등 실시간 가격비교 제공.\n",
            "PC - 나무위키 https://namu.wiki/w/PC 개인용 컴퓨터(Personal Computer). 주로 'PC'라는 약칭으로 부른다. 개인용 컴퓨터는 기업, 기관 및 소수의 전문가들이 독점하던 컴퓨터라는 도구를 일반 대중의 손에 전해줌으로써 정보화 사회의 기틀을 마련해준...\n",
            "분류:컴퓨터 - 나무위키 https://namu.wiki/w/%EB%B6%84%EB%A5%98:%EC%BB%B4%ED%93%A8%ED%84%B0 컴퓨터에 해당하는 378개 문서를 확인할 수 있습니다.\n",
            "컴퓨터 본체 갤러리 - 커뮤니티 포털 디시인사이드 https://gall.dcinside.com/board/lists/?id=pridepc_new4 디지털/IT 카테고리로 분류된 컴퓨터 본체 갤러리입니다. 컴퓨터 본체 갤러리에 다양한 이야기를 남겨주세요.\n",
            "양자 컴퓨터 - 위키백과 한국어 https://ko.wikipedia.org/wiki/%EC%96%91%EC%9E%90_%EC%BB%B4%ED%93%A8%ED%84%B0 양자 컴퓨터 (quantum computer)는 얽힘(entanglement)이나 중첩(superposition) 같은 양자역학적인 현상을 활용하여 자료를 처리하는 계산 기계이다. 또한 그러한 방법을 '양자 컴퓨팅'(quantum computing)이라고도 한다. 양자 컴퓨팅은 컴퓨터 과학, 물리학, 수학의 여러 측면으로 이루어진 종합적 분야로서 양...\n",
            "와이고수 - 컴퓨터 https://ygosu.com/board/computer 컴퓨터 전체글 | 인기글 와이고수 유저들을 위한 5월 표준견적.txt (인텔 작업용 제외) ( 3 )... 05.09 6 견적 형님들 한번만 도와주십쇼 ㅜㅜ ( 1 ) 컴린이입니당 167 2024.05.09 - 컴퓨터의 인기글\n",
            "컴퓨터 무선 와이파이 연결 방법(컴퓨터 와이파이 설정) https://changwoos.tistory.com/202 오늘은 컴퓨터 무선 와이파이 연결 방법에 대해서 알아보도록 하겠습니다. 컴퓨터(데스크탑)에도 와이파이를 연결할 수 있다는 사실을 아시나요? 컴퓨터에는 일반적으로 노트북이나 스마트폰처럼 무선 와이파이 연결 기능이 없기 때문에 와이파이를 잡기 위해서는 랜카드가 필요하게 됩니다. 컴퓨터 자체적으로 와이파이 연결 기능이 내장되어 있을 수도 있기 때문에 랜카드...\n",
            "컴퓨터본체 추천 사무용 게이밍 겸용 TOP 7 - 탑7리뷰 https://t7review.com/%EC%BB%B4%ED%93%A8%ED%84%B0-%EB%B3%B8%EC%B2%B4-%EC%B6%94%EC%B2%9C/ 인기있는 컴퓨터본체 추천 제품 6가지를 알아봅니다. PC온스튜디오, 바른컴퓨터, 컴온컴퍼니, 한성컴퓨터,삼성데스크탑, 이그닉 리트 브랜드 제품을 알아봅니다.또, 컴퓨터 본체는 어떻게 구매해야 하는지도 공개합니다.\n",
            "내 컴퓨터 사양 확인 하기 (윈도우10/운영 체제, CPU, RAM, 그래픽 카드) | Sony KR https://www.sony.co.kr/electronics/support/articles/00240839 Windows 10 내 컴퓨터의 사양 확인하기와 관련하여 안내 드리오니, 아래 사항을 참고 바랍니다. 아래와 같은 방법으로 내 컴퓨터의 사양을 알... 내 컴퓨터를 오른쪽 마우스로 클릭한 뒤, 속성을 클릭합니다. 5....\n",
            "뽐뿌 - 컴퓨터포럼 https://www.ppomppu.co.kr/zboard/zboard.php?id=computer - 2010년 2월 24일 13/10/24 0 4324677 공지 (핵스압) 왕초보 컴알못의 컴퓨터 조립기~ (컴퓨터... [바로가기] 23/03/22 0 AD 견적왕 컴퓨터 견적 구성하는 방법 및 24년 3월 최신 추천견적! 24/03/05...\n",
            "핸드폰 사진 컴퓨터로 옮기기 방법 6가지 https://anchoki.tistory.com/1109 안드로이드 스마트폰 기준 핸드폰 사진 컴퓨터로 옮기기 방법은 여러가지 방법이 있다. 예전부터 가장 쉽게 사용할 수 있는 방법은 컴퓨터에 USB 케이블을 연결하는 방법이 있지만, 요즘은 샌드애니웨어 등 USB 케이블 없이 무선으로도 컴퓨터로 사진을 옮길 수 있는 방법이 여러가지 있다. 매번 선을 찾아 연결하는 것은 귀찮은 일이다. 요즘은 스마트폰에서 바...\n",
            "컴퓨터렌탈, 게이밍컴퓨터렌탈, PC렌탈, 본체렌탈, 데스크탑렌탈 | 가전렌탈 , 가전제품렌탈 - 빌리고 https://xn--299ar6vqrd.com/model/list.php?ca_id=008015 컴퓨터렌탈,아싸컴,컴퓨터렌탈,게이밍컴퓨터렌탈,PC렌탈,본체렌탈,데스크탑렌탈,개인PC렌탈,렌탈PC,게이밍PC렌탈,피씨렌탈,조립PC렌탈,렌탈컴퓨터,가정용피씨렌탈,사무용피씨렌탈,사무실피씨렌탈,고성능PC렌탈,고성능피씨렌탈,고사양컴퓨터,고성능컴퓨터,인텔,AMD,롤,리그오브레전드,피파온라인4,서든어택,로스트아크,발로란트,전용PC,그래픽,포토샵,일러스트,오토캐드,...\n",
            "컴퓨터 포맷하는 법 - wikiHow https://ko.wikihow.com/%EC%BB%B4%ED%93%A8%ED%84%B0-%ED%8F%AC%EB%A7%B7%ED%95%98%EB%8A%94-%EB%B2%95 컴퓨터 포맷하는 법. 이 위키하우를 읽고 윈도우즈 혹은 macOS의 컴퓨터의 운영체제를 포함한 모든 데이터를 삭제하는 방법을 알아보자. 컴퓨터를 포맷하면 하드 드라이브의 모든 데이터가 삭제되며, 윈도우즈 혹은 macOS를 재설치할 수 있다. 컴퓨터가 제대로 작동하지 않거나, 컴퓨터 판매를 앞두고 있기 때문에 데이터가 노출되지 않도록 삭제하고 싶을 때...\n",
            "컴퓨터 고장 정보 - 나무위키 https://namu.wiki/w/%EC%BB%B4%ED%93%A8%ED%84%B0%20%EA%B3%A0%EC%9E%A5%20%EC%A0%95%EB%B3%B4 설명하기에 앞서, 모든 전자기기는 전원을 끄고 재가동해 보는 것이 수리의 시작이다.\n",
            "컴퓨터 http://www.ktword.co.kr/test/view/view.php?no=6012 컴퓨터 (Computer) ㅇ 계산 기계, 정보처리 기기 2. 컴퓨터의 구성 ㅇ 하드웨어 : CPU, 기억장치(메모리... 컴퓨터의 특징 ㅇ 구조적 특징 (하드웨어) - 구성 요소 . CPU (ALU,제어장치,레지스터), 기억장치...\n",
            "컴퓨터 용량 줄이기 (컴퓨터 속도 향상) - 초간단 3가지 - All Honey Tip https://allhoneytip.com/%EC%BB%B4%ED%93%A8%ED%84%B0-%EC%9A%A9%EB%9F%89-%EC%A4%84%EC%9D%B4%EA%B8%B0-%EC%BB%B4%ED%93%A8%ED%84%B0-%EC%86%8D%EB%8F%84-%ED%96%A5%EC%83%81-%EC%B4%88%EA%B0%84%EB%8B%A8-3%EA%B0%80%EC%A7%80/ 컴퓨터 용량 줄이기 (컴퓨터 속도 향상)에 대해 알아보겠습니다. 간단하게 컴퓨터 저장 공간을 정리할 수 있으니 따라해보세요 :)\n"
          ]
        }
      ]
    },
    {
      "cell_type": "code",
      "source": [
        "# [8] 출력 데이타 데이타 프레임으로 만들기\n",
        "\n",
        "import pandas as pd\n",
        "web_df = pd.DataFrame(columns = (\"title\",\"link\",\"description\"))\n"
      ],
      "metadata": {
        "id": "dVxLATDu3wlm"
      },
      "execution_count": null,
      "outputs": []
    },
    {
      "cell_type": "code",
      "source": [
        "# [8] 필요한 데이타만 뽑아서 데이타셋으로 만들기\n",
        "\n",
        "import pandas as pd\n",
        "web_df = pd.DataFrame(columns = (\"title\",\"link\",\"description\"))\n",
        "\n",
        "for idx in range(0,len(item)):\n",
        "    item_dict= {}\n",
        "    item_dict['title'] = re.sub(remove_tag,'',item[idx].find('title').text)\n",
        "    item_dict['link'] = item[idx].find('link').text\n",
        "    item_dict['description'] = re.sub(remove_tag,'',item[idx].find('description').text)\n",
        "    print(item_dict)\n",
        "\n",
        "    item_df = pd.DataFrame(item_dict, index=[idx])\n",
        "    web_df = pd.concat([web_df,item_df], ignore_index=True)\n",
        "\n",
        "\n",
        "\n",
        "\n",
        "print(web_df)\n",
        "\n"
      ],
      "metadata": {
        "id": "7c4RAWsJuuO2",
        "colab": {
          "base_uri": "https://localhost:8080/"
        },
        "outputId": "ca331801-d7fe-4147-f837-928387981b77"
      },
      "execution_count": null,
      "outputs": [
        {
          "output_type": "stream",
          "name": "stdout",
          "text": [
            "{'title': '컴퓨터 - 위키백과 한국어', 'link': 'https://ko.wikipedia.org/wiki/%EC%BB%B4%ED%93%A8%ED%84%B0', 'description': '컴퓨터 ( 영어: computer , 문화어: 콤퓨터 , 콤퓨타 , 순화어: 전산기(電算機), 셈틀 )는 방대한 정보(데이터)를 저장 하고 검색 하고 처리 하며, 프로그래밍이 가능한 전자적 기계 장치 또는 자동 으로 계산 (연산)을 수행하고 다른 기계장치(machines)들을 제어하는 전자 기기다. 프로그램을 사용해 정보 를 입...'}\n",
            "{'title': '컴퓨터 - 나무위키', 'link': 'https://namu.wiki/w/%EC%BB%B4%ED%93%A8%ED%84%B0', 'description': 'Computer 이진법을 이용하여 논리 연산, 저장을 수행하는 전자 기계.'}\n",
            "{'title': '다나와 컴퓨터', 'link': 'https://www.danawa.com/pc/', 'description': '온라인 쇼핑몰, 오픈마켓, 소셜커머스, 백화점, 전문몰 등 전 상품 정보 가격비교 사이트, 비교하면 다나와'}\n",
            "{'title': '컴퓨터 - 현대Hmall', 'link': 'https://www.hmall.com/pd/dpa/searchSectItem?sectId=2731271', 'description': 'Hmall &gt; Hmall 카테고리 &gt; 노트북/PC/게임 &gt; 컴퓨터'}\n",
            "{'title': '다나와', 'link': 'https://www.danawa.com/', 'description': '가격비교 사이트. 가전, 컴퓨터, 자동차, 노트북, 휴대폰, 아웃도어, 생활용품 등 실시간 가격비교 제공.'}\n",
            "{'title': 'PC - 나무위키', 'link': 'https://namu.wiki/w/PC', 'description': \"개인용 컴퓨터(Personal Computer). 주로 'PC'라는 약칭으로 부른다. 개인용 컴퓨터는 기업, 기관 및 소수의 전문가들이 독점하던 컴퓨터라는 도구를 일반 대중의 손에 전해줌으로써 정보화 사회의 기틀을 마련해준...\"}\n",
            "{'title': '분류:컴퓨터 - 나무위키', 'link': 'https://namu.wiki/w/%EB%B6%84%EB%A5%98:%EC%BB%B4%ED%93%A8%ED%84%B0', 'description': '컴퓨터에 해당하는 378개 문서를 확인할 수 있습니다.'}\n",
            "{'title': '컴퓨터 본체 갤러리 - 커뮤니티 포털 디시인사이드', 'link': 'https://gall.dcinside.com/board/lists/?id=pridepc_new4', 'description': '디지털/IT 카테고리로 분류된 컴퓨터 본체 갤러리입니다. 컴퓨터 본체 갤러리에 다양한 이야기를 남겨주세요.'}\n",
            "{'title': '양자 컴퓨터 - 위키백과 한국어', 'link': 'https://ko.wikipedia.org/wiki/%EC%96%91%EC%9E%90_%EC%BB%B4%ED%93%A8%ED%84%B0', 'description': \"양자 컴퓨터 (quantum computer)는 얽힘(entanglement)이나 중첩(superposition) 같은 양자역학적인 현상을 활용하여 자료를 처리하는 계산 기계이다. 또한 그러한 방법을 '양자 컴퓨팅'(quantum computing)이라고도 한다. 양자 컴퓨팅은 컴퓨터 과학, 물리학, 수학의 여러 측면으로 이루어진 종합적 분야로서 양...\"}\n",
            "{'title': '와이고수 - 컴퓨터', 'link': 'https://ygosu.com/board/computer', 'description': '컴퓨터 전체글 | 인기글 와이고수 유저들을 위한 5월 표준견적.txt (인텔 작업용 제외) ( 3 )... 05.09 6 견적 형님들 한번만 도와주십쇼 ㅜㅜ ( 1 ) 컴린이입니당 167 2024.05.09 - 컴퓨터의 인기글'}\n",
            "{'title': '컴퓨터 무선 와이파이 연결 방법(컴퓨터 와이파이 설정)', 'link': 'https://changwoos.tistory.com/202', 'description': '오늘은 컴퓨터 무선 와이파이 연결 방법에 대해서 알아보도록 하겠습니다. 컴퓨터(데스크탑)에도 와이파이를 연결할 수 있다는 사실을 아시나요? 컴퓨터에는 일반적으로 노트북이나 스마트폰처럼 무선 와이파이 연결 기능이 없기 때문에 와이파이를 잡기 위해서는 랜카드가 필요하게 됩니다. 컴퓨터 자체적으로 와이파이 연결 기능이 내장되어 있을 수도 있기 때문에 랜카드...'}\n",
            "{'title': '컴퓨터본체 추천 사무용 게이밍 겸용 TOP 7 - 탑7리뷰', 'link': 'https://t7review.com/%EC%BB%B4%ED%93%A8%ED%84%B0-%EB%B3%B8%EC%B2%B4-%EC%B6%94%EC%B2%9C/', 'description': '인기있는 컴퓨터본체 추천 제품 6가지를 알아봅니다. PC온스튜디오, 바른컴퓨터, 컴온컴퍼니, 한성컴퓨터,삼성데스크탑, 이그닉 리트 브랜드 제품을 알아봅니다.또, 컴퓨터 본체는 어떻게 구매해야 하는지도 공개합니다.'}\n",
            "{'title': '내 컴퓨터 사양 확인 하기 (윈도우10/운영 체제, CPU, RAM, 그래픽 카드) | Sony KR', 'link': 'https://www.sony.co.kr/electronics/support/articles/00240839', 'description': 'Windows 10 내 컴퓨터의 사양 확인하기와 관련하여 안내 드리오니, 아래 사항을 참고 바랍니다. 아래와 같은 방법으로 내 컴퓨터의 사양을 알... 내 컴퓨터를 오른쪽 마우스로 클릭한 뒤, 속성을 클릭합니다. 5....'}\n",
            "{'title': '뽐뿌 - 컴퓨터포럼', 'link': 'https://www.ppomppu.co.kr/zboard/zboard.php?id=computer', 'description': '- 2010년 2월 24일 13/10/24 0 4324677 공지 (핵스압) 왕초보 컴알못의 컴퓨터 조립기~ (컴퓨터... [바로가기] 23/03/22 0 AD 견적왕 컴퓨터 견적 구성하는 방법 및 24년 3월 최신 추천견적! 24/03/05...'}\n",
            "{'title': '핸드폰 사진 컴퓨터로 옮기기 방법 6가지', 'link': 'https://anchoki.tistory.com/1109', 'description': '안드로이드 스마트폰 기준 핸드폰 사진 컴퓨터로 옮기기 방법은 여러가지 방법이 있다. 예전부터 가장 쉽게 사용할 수 있는 방법은 컴퓨터에 USB 케이블을 연결하는 방법이 있지만, 요즘은 샌드애니웨어 등 USB 케이블 없이 무선으로도 컴퓨터로 사진을 옮길 수 있는 방법이 여러가지 있다. 매번 선을 찾아 연결하는 것은 귀찮은 일이다. 요즘은 스마트폰에서 바...'}\n",
            "{'title': '컴퓨터렌탈, 게이밍컴퓨터렌탈, PC렌탈, 본체렌탈, 데스크탑렌탈 | 가전렌탈 , 가전제품렌탈 - 빌리고', 'link': 'https://xn--299ar6vqrd.com/model/list.php?ca_id=008015', 'description': '컴퓨터렌탈,아싸컴,컴퓨터렌탈,게이밍컴퓨터렌탈,PC렌탈,본체렌탈,데스크탑렌탈,개인PC렌탈,렌탈PC,게이밍PC렌탈,피씨렌탈,조립PC렌탈,렌탈컴퓨터,가정용피씨렌탈,사무용피씨렌탈,사무실피씨렌탈,고성능PC렌탈,고성능피씨렌탈,고사양컴퓨터,고성능컴퓨터,인텔,AMD,롤,리그오브레전드,피파온라인4,서든어택,로스트아크,발로란트,전용PC,그래픽,포토샵,일러스트,오토캐드,...'}\n",
            "{'title': '컴퓨터 포맷하는 법 - wikiHow', 'link': 'https://ko.wikihow.com/%EC%BB%B4%ED%93%A8%ED%84%B0-%ED%8F%AC%EB%A7%B7%ED%95%98%EB%8A%94-%EB%B2%95', 'description': '컴퓨터 포맷하는 법. 이 위키하우를 읽고 윈도우즈 혹은 macOS의 컴퓨터의 운영체제를 포함한 모든 데이터를 삭제하는 방법을 알아보자. 컴퓨터를 포맷하면 하드 드라이브의 모든 데이터가 삭제되며, 윈도우즈 혹은 macOS를 재설치할 수 있다. 컴퓨터가 제대로 작동하지 않거나, 컴퓨터 판매를 앞두고 있기 때문에 데이터가 노출되지 않도록 삭제하고 싶을 때...'}\n",
            "{'title': '컴퓨터 고장 정보 - 나무위키', 'link': 'https://namu.wiki/w/%EC%BB%B4%ED%93%A8%ED%84%B0%20%EA%B3%A0%EC%9E%A5%20%EC%A0%95%EB%B3%B4', 'description': '설명하기에 앞서, 모든 전자기기는 전원을 끄고 재가동해 보는 것이 수리의 시작이다.'}\n",
            "{'title': '컴퓨터', 'link': 'http://www.ktword.co.kr/test/view/view.php?no=6012', 'description': '컴퓨터 (Computer) ㅇ 계산 기계, 정보처리 기기 2. 컴퓨터의 구성 ㅇ 하드웨어 : CPU, 기억장치(메모리... 컴퓨터의 특징 ㅇ 구조적 특징 (하드웨어) - 구성 요소 . CPU (ALU,제어장치,레지스터), 기억장치...'}\n",
            "{'title': '컴퓨터 용량 줄이기 (컴퓨터 속도 향상) - 초간단 3가지 - All Honey Tip', 'link': 'https://allhoneytip.com/%EC%BB%B4%ED%93%A8%ED%84%B0-%EC%9A%A9%EB%9F%89-%EC%A4%84%EC%9D%B4%EA%B8%B0-%EC%BB%B4%ED%93%A8%ED%84%B0-%EC%86%8D%EB%8F%84-%ED%96%A5%EC%83%81-%EC%B4%88%EA%B0%84%EB%8B%A8-3%EA%B0%80%EC%A7%80/', 'description': '컴퓨터 용량 줄이기 (컴퓨터 속도 향상)에 대해 알아보겠습니다. 간단하게 컴퓨터 저장 공간을 정리할 수 있으니 따라해보세요 :)'}\n",
            "                                                title  \\\n",
            "0                                      컴퓨터 - 위키백과 한국어   \n",
            "1                                          컴퓨터 - 나무위키   \n",
            "2                                             다나와 컴퓨터   \n",
            "3                                       컴퓨터 - 현대Hmall   \n",
            "4                                                 다나와   \n",
            "5                                           PC - 나무위키   \n",
            "6                                       분류:컴퓨터 - 나무위키   \n",
            "7                         컴퓨터 본체 갤러리 - 커뮤니티 포털 디시인사이드   \n",
            "8                                   양자 컴퓨터 - 위키백과 한국어   \n",
            "9                                          와이고수 - 컴퓨터   \n",
            "10                     컴퓨터 무선 와이파이 연결 방법(컴퓨터 와이파이 설정)   \n",
            "11                   컴퓨터본체 추천 사무용 게이밍 겸용 TOP 7 - 탑7리뷰   \n",
            "12  내 컴퓨터 사양 확인 하기 (윈도우10/운영 체제, CPU, RAM, 그래픽 카드)...   \n",
            "13                                         뽐뿌 - 컴퓨터포럼   \n",
            "14                             핸드폰 사진 컴퓨터로 옮기기 방법 6가지   \n",
            "15  컴퓨터렌탈, 게이밍컴퓨터렌탈, PC렌탈, 본체렌탈, 데스크탑렌탈 | 가전렌탈 , 가...   \n",
            "16                               컴퓨터 포맷하는 법 - wikiHow   \n",
            "17                                   컴퓨터 고장 정보 - 나무위키   \n",
            "18                                                컴퓨터   \n",
            "19   컴퓨터 용량 줄이기 (컴퓨터 속도 향상) - 초간단 3가지 - All Honey Tip   \n",
            "\n",
            "                                                 link  \\\n",
            "0   https://ko.wikipedia.org/wiki/%EC%BB%B4%ED%93%...   \n",
            "1     https://namu.wiki/w/%EC%BB%B4%ED%93%A8%ED%84%B0   \n",
            "2                          https://www.danawa.com/pc/   \n",
            "3   https://www.hmall.com/pd/dpa/searchSectItem?se...   \n",
            "4                             https://www.danawa.com/   \n",
            "5                              https://namu.wiki/w/PC   \n",
            "6   https://namu.wiki/w/%EB%B6%84%EB%A5%98:%EC%BB%...   \n",
            "7   https://gall.dcinside.com/board/lists/?id=prid...   \n",
            "8   https://ko.wikipedia.org/wiki/%EC%96%91%EC%9E%...   \n",
            "9                    https://ygosu.com/board/computer   \n",
            "10                  https://changwoos.tistory.com/202   \n",
            "11  https://t7review.com/%EC%BB%B4%ED%93%A8%ED%84%...   \n",
            "12  https://www.sony.co.kr/electronics/support/art...   \n",
            "13  https://www.ppomppu.co.kr/zboard/zboard.php?id...   \n",
            "14                   https://anchoki.tistory.com/1109   \n",
            "15  https://xn--299ar6vqrd.com/model/list.php?ca_i...   \n",
            "16  https://ko.wikihow.com/%EC%BB%B4%ED%93%A8%ED%8...   \n",
            "17  https://namu.wiki/w/%EC%BB%B4%ED%93%A8%ED%84%B...   \n",
            "18  http://www.ktword.co.kr/test/view/view.php?no=...   \n",
            "19  https://allhoneytip.com/%EC%BB%B4%ED%93%A8%ED%...   \n",
            "\n",
            "                                          description  \n",
            "0   컴퓨터 ( 영어: computer , 문화어: 콤퓨터 , 콤퓨타 , 순화어: 전산기...  \n",
            "1           Computer 이진법을 이용하여 논리 연산, 저장을 수행하는 전자 기계.  \n",
            "2   온라인 쇼핑몰, 오픈마켓, 소셜커머스, 백화점, 전문몰 등 전 상품 정보 가격비교 ...  \n",
            "3       Hmall &gt; Hmall 카테고리 &gt; 노트북/PC/게임 &gt; 컴퓨터  \n",
            "4   가격비교 사이트. 가전, 컴퓨터, 자동차, 노트북, 휴대폰, 아웃도어, 생활용품 등...  \n",
            "5   개인용 컴퓨터(Personal Computer). 주로 'PC'라는 약칭으로 부른다...  \n",
            "6                      컴퓨터에 해당하는 378개 문서를 확인할 수 있습니다.  \n",
            "7   디지털/IT 카테고리로 분류된 컴퓨터 본체 갤러리입니다. 컴퓨터 본체 갤러리에 다양...  \n",
            "8   양자 컴퓨터 (quantum computer)는 얽힘(entanglement)이나 ...  \n",
            "9   컴퓨터 전체글 | 인기글 와이고수 유저들을 위한 5월 표준견적.txt (인텔 작업용...  \n",
            "10  오늘은 컴퓨터 무선 와이파이 연결 방법에 대해서 알아보도록 하겠습니다. 컴퓨터(데스...  \n",
            "11  인기있는 컴퓨터본체 추천 제품 6가지를 알아봅니다. PC온스튜디오, 바른컴퓨터, 컴...  \n",
            "12  Windows 10 내 컴퓨터의 사양 확인하기와 관련하여 안내 드리오니, 아래 사항...  \n",
            "13  - 2010년 2월 24일 13/10/24 0 4324677 공지 (핵스압) 왕초보...  \n",
            "14  안드로이드 스마트폰 기준 핸드폰 사진 컴퓨터로 옮기기 방법은 여러가지 방법이 있다....  \n",
            "15  컴퓨터렌탈,아싸컴,컴퓨터렌탈,게이밍컴퓨터렌탈,PC렌탈,본체렌탈,데스크탑렌탈,개인PC...  \n",
            "16  컴퓨터 포맷하는 법. 이 위키하우를 읽고 윈도우즈 혹은 macOS의 컴퓨터의 운영체...  \n",
            "17     설명하기에 앞서, 모든 전자기기는 전원을 끄고 재가동해 보는 것이 수리의 시작이다.  \n",
            "18  컴퓨터 (Computer) ㅇ 계산 기계, 정보처리 기기 2. 컴퓨터의 구성 ㅇ 하...  \n",
            "19  컴퓨터 용량 줄이기 (컴퓨터 속도 향상)에 대해 알아보겠습니다. 간단하게 컴퓨터 저...  \n"
          ]
        }
      ]
    },
    {
      "cell_type": "code",
      "source": [
        "# [9] csv 파일로 만들기\n",
        "web_df.to_csv('naver.csv', index=False, encoding='cp949')\n"
      ],
      "metadata": {
        "id": "_wSIRu9dU58h"
      },
      "execution_count": null,
      "outputs": []
    },
    {
      "cell_type": "code",
      "source": [
        "# [1] 네이버 검색 API 예제 - web 검색 전체\n",
        "import os\n",
        "import sys\n",
        "import urllib.request\n",
        "from bs4 import BeautifulSoup #[4] BeautifulSoup 추가\n",
        "import re  # [7] Regular expression을 사용\n",
        "import pandas as pd #[8] 출력 데이타 데이타 프레임으로 만들기\n",
        "\n",
        "client_id = \"DhjTWuVGyK58EfnmgsVs\"\n",
        "client_secret = \"JElGvx9Qpo\"\n",
        "\n",
        "# [2] 검색어를 입력으로 받아서 처리\n",
        "# encText = urllib.parse.quote(\"컴퓨터\")\n",
        "encText = urllib.parse.quote(input(\"검색어 입력:\"))\n",
        "\n",
        "# [3] api 요청변수 채우기\n",
        "display = 100  #한 번에 표시할 검색 결과 개수(기본값: 10, 최댓값: 100)\n",
        "#검색 시작 위치(기본값: 1, 최댓값: 1000)\n",
        "start   = 1\n",
        "end     = 1000\n",
        "\n",
        "#[8] 출력 데이타 데이타 프레임으로 만들기\n",
        "web_df = pd.DataFrame(columns = (\"title\",\"link\",\"description\"))\n",
        "\n",
        "# 1회 호출로 display 설정 값만큼씩 데이타씩 가져오기. 최대 1000\n",
        "for start_index in range(start, end, display) :\n",
        "    # url 만들기\n",
        "    url = \"https://openapi.naver.com/v1/search/webkr.xml?query=\" + encText + \"&display=\" +  str(display) + \"&start=\" + str(start_index)\n",
        "    # print(url)\n",
        "\n",
        "    request = urllib.request.Request(url)\n",
        "    request.add_header(\"X-Naver-Client-Id\",client_id)\n",
        "    request.add_header(\"X-Naver-Client-Secret\",client_secret)\n",
        "\n",
        "    response = urllib.request.urlopen(request)\n",
        "\n",
        "    rescode = response.getcode()\n",
        "    #오류코드 확인 후 결과 처리\n",
        "    if(rescode==200):\n",
        "        # [4] BeautifulSoup를 사용하여 xml 파일을 파싱\n",
        "        soup = BeautifulSoup(response, 'xml')\n",
        "        # [5] XML파일에서 모든 item 태그 데이타 모으기\n",
        "        item = soup.find_all('item')\n",
        "        # 총 데이타 확인\n",
        "        # print(len(item))\n",
        "\n",
        "        # [7] Regular expression을 사용하여 <b> </b> 태그 제외\n",
        "        remove_tag = re.compile('<.*?>')\n",
        "\n",
        "        for idx in range(0,len(item)):\n",
        "            item_dict= {}\n",
        "            item_dict['title'] = re.sub(remove_tag,'',item[idx].find('title').text)\n",
        "            item_dict['link'] = item[idx].find('link').text\n",
        "            item_dict['description'] = re.sub(remove_tag,'',item[idx].find('description').text)\n",
        "            #print(item_dict)\n",
        "\n",
        "            item_df = pd.DataFrame(item_dict, index=[start_index])\n",
        "            web_df = pd.concat([web_df,item_df], ignore_index=True)\n",
        "    else:\n",
        "        print(\"Error Code:\" + rescode)\n",
        "\n",
        "# web_df 확인\n",
        "print(web_df)\n",
        "\n",
        "# [9] csv 파일로 만들기\n",
        "# encoding='cp949' 한글깨짐\n",
        "# encoding='euc-kr' 한글깨짐\n",
        "# encoding='utf-8-sig'\n",
        "web_df.to_csv('naver.csv', index=False, encoding='utf-8-sig')\n"
      ],
      "metadata": {
        "colab": {
          "base_uri": "https://localhost:8080/"
        },
        "id": "2k553WCWzalN",
        "outputId": "9a95e3fb-a818-4133-f8d1-268931133bd7"
      },
      "execution_count": null,
      "outputs": [
        {
          "output_type": "stream",
          "name": "stdout",
          "text": [
            "검색어 입력:전주 맛집\n",
            "                                          title  \\\n",
            "0              '전주' 맛집 빅데이터 추천순위 Top100 - 다이닝코드   \n",
            "1         전주 맛집/음식점 추천 순위 Best 10 - Tripadvisor   \n",
            "2                          전주맛집 맛집 인기검색 순위 - 식신   \n",
            "3                          전주맛집 맛집 인기검색 순위 - 식신   \n",
            "4            전북맛집 - 전주-덕진구맛집 추천 베스트10 | 식신 맛집추천   \n",
            "..                                          ...   \n",
            "195                      기타 - 전주음식 &gt; 콘텐츠 리스트   \n",
            "196  전주맛집 온초담 by 초담불고기 (@chodam_story) | TikTok   \n",
            "197                      전골 - 전주음식 &gt; 콘텐츠 리스트   \n",
            "198                        지구를 구하는 채식 맛집 - 전주시청   \n",
            "199              전주 토박이 맛집 블로거 쉐비체어의 추천 - 레이디경향   \n",
            "\n",
            "                                                  link  \\\n",
            "0    https://www.diningcode.com/list.dc?query=%EC%A...   \n",
            "1    https://www.tripadvisor.co.kr/Restaurants-g114...   \n",
            "2    https://www.siksinhot.com/search?keywords=%EC%...   \n",
            "3    https://www.siksinhot.com/search?keywords=%20%...   \n",
            "4    https://www.siksinhot.com/taste?hpAreaId=358&u...   \n",
            "..                                                 ...   \n",
            "195  https://food.jeonju.go.kr/index.9is?contentUid...   \n",
            "196               https://www.tiktok.com/@chodam_story   \n",
            "197  https://food.jeonju.go.kr/index.9is?contentUid...   \n",
            "198  https://daum.jeonju.go.kr/web/page.php?pcode=D...   \n",
            "199    https://lady.khan.co.kr/article/201003081626391   \n",
            "\n",
            "                                           description  \n",
            "0    '전주' 맛집 조점례 남문피순대 (국밥, ★4.1), 현대옥 남부시장점(콩나물국밥,...  \n",
            "1    음식으로 전주 탐방하기 ; 아시아 요리 ; 카페 ; 펍 ; 중국 요리 ; 미국 요리...  \n",
            "2    식신이 추천하는 전주맛집 맛집 인기검색 순위의 맛집 리스트결과는 20건 입니다. 전...  \n",
            "3    식신이 추천하는 전주맛집 맛집 인기검색 순위의 맛집 리스트결과는 20건 입니다. 전...  \n",
            "4    전주-덕진구의 베스트 맛집을 엄선하여 추천합니다. 회식, 모임, 데이트 추천 맛집 ...  \n",
            "..                                                 ...  \n",
            "195  펄펄닭내장 ; 전주시 완산구 공북로 100 ; 063-277-3257 ; 09:30...  \n",
            "196  💕외식업 운영하는 미대 나온 쌍둥이 워킹맘💕 🤩전주시 선정 안심음식점 🤩중소기업청 ...  \n",
            "197  총체보리한우 정육식당 전주점 ; 전주시 덕진구 숲거리길 20-12 ; 063-253...  \n",
            "198  이제 더는 비건(Vegan, 채식)은 까다로운 입맛의 소유자라 불리지 않는다. 입맛...  \n",
            "199  전주 토박이 맛집 블로거 쉐비체어의 추천 광장식당 전주시청 광장 앞에 위치한 소문난...  \n",
            "\n",
            "[200 rows x 3 columns]\n"
          ]
        }
      ]
    },
    {
      "cell_type": "code",
      "source": [],
      "metadata": {
        "id": "O75L10SXWMyh"
      },
      "execution_count": null,
      "outputs": []
    }
  ]
}