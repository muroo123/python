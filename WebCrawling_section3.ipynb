{
  "nbformat": 4,
  "nbformat_minor": 0,
  "metadata": {
    "colab": {
      "provenance": [],
      "authorship_tag": "ABX9TyPKtxD6HB0TIMus7AzseBGd",
      "include_colab_link": true
    },
    "kernelspec": {
      "name": "python3",
      "display_name": "Python 3"
    },
    "language_info": {
      "name": "python"
    }
  },
  "cells": [
    {
      "cell_type": "markdown",
      "metadata": {
        "id": "view-in-github",
        "colab_type": "text"
      },
      "source": [
        "<a href=\"https://colab.research.google.com/github/muroo123/python/blob/main/WebCrawling_section3.ipynb\" target=\"_parent\"><img src=\"https://colab.research.google.com/assets/colab-badge.svg\" alt=\"Open In Colab\"/></a>"
      ]
    },
    {
      "cell_type": "markdown",
      "source": [
        "![image.png](data:image/png;base64,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)"
      ],
      "metadata": {
        "id": "X60m-MPDSQ5i"
      }
    },
    {
      "cell_type": "markdown",
      "source": [
        "## Open API - 공공데이타 포털(한국환경공단 측정소정보)\n",
        "\n",
        "- www.data.go.kr\n",
        "- 카카오톡, 네이버 계정으로 가입 가능\n",
        "- 한국환경공단 자료 신청(측정소정보, 대기오염정보)\n",
        "- 마이페이지 -> API신청 -> 한국환경공단_에어코리아_측정소정보\n",
        "- 서비스정보 -> 참고문헌 파일에 상세 설명 있음\n",
        "- 서비스정보 -> 일반 인증키(Encoding)에 있는 문자열이 개인 신청한 서비스키\n",
        "- 활용신청 상세기능정보 -> 측정소 목록 조회 -> 미리보기 확인에서 sample 데이타 조회 가능"
      ],
      "metadata": {
        "id": "08llWn7l9lrj"
      }
    },
    {
      "cell_type": "markdown",
      "source": [
        "### 한국환경공단_에어코리아_측정소정보\n",
        "- https://www.data.go.kr/tcs/dss/selectApiDataDetailView.do?publicDataPk=15073877"
      ],
      "metadata": {
        "id": "wLfeyFRwRcOE"
      }
    },
    {
      "cell_type": "code",
      "source": [
        "# [1] urlopen, BeautifulSoup 라이브러리를 가져오기\n",
        "from urllib.request import urlopen\n",
        "from bs4 import BeautifulSoup\n"
      ],
      "metadata": {
        "id": "Ii9M8jZYVijF"
      },
      "execution_count": null,
      "outputs": []
    },
    {
      "cell_type": "markdown",
      "source": [
        "## 요청 메세지 확인하기\n",
        "- 다운받은 파일에서 한국환경공단_에어코리아_측정소정보_기술문서_v1.2.docx 찾기\n",
        "- 파일 8페이지에 요청/응답 메세지 예제에서 요청메세지 확인\n",
        "- http://apis.data.go.kr/B552584/MsrstnInfoInqireSvc/getMsrstnList?addr=서울&stationName=종로구&pageNo=1&numOfRows=10&serviceKey=서비스키&returnType=xml\n",
        "- 요청메세지 변수에 값을 채워서 url 완성 후 페이지 요청하기\n"
      ],
      "metadata": {
        "id": "tuy6W1DDZ_r8"
      }
    },
    {
      "cell_type": "code",
      "source": [
        "# [2] api 요청변수 채우기\n",
        "# 주소\n",
        "addr        = '서울'\n",
        "# 측정소명\n",
        "stationName = '' #종로구\n",
        "# 페이지번호\n",
        "pageNo      = 1\n",
        "# 한 페이지 결과 수\n",
        "numOfRows   = 10\n",
        "# serviceKey 공공데이터포털에서 받은 인증키(URL Encode)\n",
        "serviceKey =  'mbEFdDMAXvjlftXV%2FBIqkcIRq6HI9BtxkW%2FHP%2BpSUkjfdl1qWrgf8qX7DIS%2BJ1TEIIu5JYmYbrCeYZ68XLlI%2FA%3D%3D'\n",
        "# xml 또는 json\n",
        "returnType  = 'xml'\n"
      ],
      "metadata": {
        "id": "CIfytJGLc4_9"
      },
      "execution_count": null,
      "outputs": []
    },
    {
      "cell_type": "code",
      "source": [
        "# [3] url 만들기 입니다. f스트링을 활용해 중괄호 쳐진 부분에 각 변수가 들어가도록 합니다.\n",
        "\n",
        "url = f'http://apis.data.go.kr/B552584/MsrstnInfoInqireSvc/'\\\n",
        "    f'getMsrstnList?addr={addr}&'\\\n",
        "    f'stationName={stationName}&'\\\n",
        "    f'pageNo={pageNo}&'\\\n",
        "    f'numOfRows={numOfRows}&'\\\n",
        "    f'serviceKey={serviceKey}&'\\\n",
        "    f'returnType={returnType}'\n",
        "\n",
        "print(url)"
      ],
      "metadata": {
        "colab": {
          "base_uri": "https://localhost:8080/"
        },
        "id": "2D76902mlnOp",
        "outputId": "fd1c09ed-5398-4547-963f-3ced3e600cf2"
      },
      "execution_count": null,
      "outputs": [
        {
          "output_type": "stream",
          "name": "stdout",
          "text": [
            "http://apis.data.go.kr/B552584/MsrstnInfoInqireSvc/getMsrstnList?addr=서울&stationName=&pageNo=1&numOfRows=10&serviceKey=mbEFdDMAXvjlftXV%2FBIqkcIRq6HI9BtxkW%2FHP%2BpSUkjfdl1qWrgf8qX7DIS%2BJ1TEIIu5JYmYbrCeYZ68XLlI%2FA%3D%3D&returnType=xml\n"
          ]
        }
      ]
    },
    {
      "cell_type": "code",
      "source": [
        "# [3-1] url 만들기 입니다. 서비스key만 입력해도 됩니다.\n",
        "url = f'http://apis.data.go.kr/B552584/MsrstnInfoInqireSvc/getMsrstnList?addr=서울&stationName=종로구&pageNo=1&numOfRows=10&serviceKey={serviceKey}&returnType=xml'\n",
        "print(url)"
      ],
      "metadata": {
        "colab": {
          "base_uri": "https://localhost:8080/"
        },
        "id": "zxGccmKrYaq6",
        "outputId": "92b5ccf8-e227-4bcb-dc63-3f8c23557653"
      },
      "execution_count": null,
      "outputs": [
        {
          "output_type": "stream",
          "name": "stdout",
          "text": [
            "http://apis.data.go.kr/B552584/MsrstnInfoInqireSvc/getMsrstnList?addr=서울&stationName=종로구&pageNo=1&numOfRows=10&serviceKey=mbEFdDMAXvjlftXV%2FBIqkcIRq6HI9BtxkW%2FHP%2BpSUkjfdl1qWrgf8qX7DIS%2BJ1TEIIu5JYmYbrCeYZ68XLlI%2FA%3D%3D&returnType=xml\n"
          ]
        }
      ]
    },
    {
      "cell_type": "code",
      "source": [
        "# [4] urlopen을 사용하여 url을 가져옵니다.\n",
        "result = urlopen(url)\n"
      ],
      "metadata": {
        "colab": {
          "base_uri": "https://localhost:8080/",
          "height": 330
        },
        "id": "QNr5cUTamj3K",
        "outputId": "dc1d0fac-2516-4d4e-cb8a-1fa81681e674"
      },
      "execution_count": null,
      "outputs": [
        {
          "output_type": "error",
          "ename": "UnicodeEncodeError",
          "evalue": "'ascii' codec can't encode characters in position 52-53: ordinal not in range(128)",
          "traceback": [
            "\u001b[0;31m---------------------------------------------------------------------------\u001b[0m",
            "\u001b[0;31mUnicodeEncodeError\u001b[0m                        Traceback (most recent call last)",
            "\u001b[0;32m<ipython-input-5-f46c770adb41>\u001b[0m in \u001b[0;36m<cell line: 2>\u001b[0;34m()\u001b[0m\n\u001b[1;32m      1\u001b[0m \u001b[0;31m# [4] urlopen을 사용하여 url을 가져옵니다.\u001b[0m\u001b[0;34m\u001b[0m\u001b[0;34m\u001b[0m\u001b[0m\n\u001b[0;32m----> 2\u001b[0;31m \u001b[0mresult\u001b[0m \u001b[0;34m=\u001b[0m \u001b[0murlopen\u001b[0m\u001b[0;34m(\u001b[0m\u001b[0murl\u001b[0m\u001b[0;34m)\u001b[0m\u001b[0;34m\u001b[0m\u001b[0;34m\u001b[0m\u001b[0m\n\u001b[0m",
            "\u001b[0;32m/usr/lib/python3.10/urllib/request.py\u001b[0m in \u001b[0;36murlopen\u001b[0;34m(url, data, timeout, cafile, capath, cadefault, context)\u001b[0m\n\u001b[1;32m    214\u001b[0m     \u001b[0;32melse\u001b[0m\u001b[0;34m:\u001b[0m\u001b[0;34m\u001b[0m\u001b[0;34m\u001b[0m\u001b[0m\n\u001b[1;32m    215\u001b[0m         \u001b[0mopener\u001b[0m \u001b[0;34m=\u001b[0m \u001b[0m_opener\u001b[0m\u001b[0;34m\u001b[0m\u001b[0;34m\u001b[0m\u001b[0m\n\u001b[0;32m--> 216\u001b[0;31m     \u001b[0;32mreturn\u001b[0m \u001b[0mopener\u001b[0m\u001b[0;34m.\u001b[0m\u001b[0mopen\u001b[0m\u001b[0;34m(\u001b[0m\u001b[0murl\u001b[0m\u001b[0;34m,\u001b[0m \u001b[0mdata\u001b[0m\u001b[0;34m,\u001b[0m \u001b[0mtimeout\u001b[0m\u001b[0;34m)\u001b[0m\u001b[0;34m\u001b[0m\u001b[0;34m\u001b[0m\u001b[0m\n\u001b[0m\u001b[1;32m    217\u001b[0m \u001b[0;34m\u001b[0m\u001b[0m\n\u001b[1;32m    218\u001b[0m \u001b[0;32mdef\u001b[0m \u001b[0minstall_opener\u001b[0m\u001b[0;34m(\u001b[0m\u001b[0mopener\u001b[0m\u001b[0;34m)\u001b[0m\u001b[0;34m:\u001b[0m\u001b[0;34m\u001b[0m\u001b[0;34m\u001b[0m\u001b[0m\n",
            "\u001b[0;32m/usr/lib/python3.10/urllib/request.py\u001b[0m in \u001b[0;36mopen\u001b[0;34m(self, fullurl, data, timeout)\u001b[0m\n\u001b[1;32m    517\u001b[0m \u001b[0;34m\u001b[0m\u001b[0m\n\u001b[1;32m    518\u001b[0m         \u001b[0msys\u001b[0m\u001b[0;34m.\u001b[0m\u001b[0maudit\u001b[0m\u001b[0;34m(\u001b[0m\u001b[0;34m'urllib.Request'\u001b[0m\u001b[0;34m,\u001b[0m \u001b[0mreq\u001b[0m\u001b[0;34m.\u001b[0m\u001b[0mfull_url\u001b[0m\u001b[0;34m,\u001b[0m \u001b[0mreq\u001b[0m\u001b[0;34m.\u001b[0m\u001b[0mdata\u001b[0m\u001b[0;34m,\u001b[0m \u001b[0mreq\u001b[0m\u001b[0;34m.\u001b[0m\u001b[0mheaders\u001b[0m\u001b[0;34m,\u001b[0m \u001b[0mreq\u001b[0m\u001b[0;34m.\u001b[0m\u001b[0mget_method\u001b[0m\u001b[0;34m(\u001b[0m\u001b[0;34m)\u001b[0m\u001b[0;34m)\u001b[0m\u001b[0;34m\u001b[0m\u001b[0;34m\u001b[0m\u001b[0m\n\u001b[0;32m--> 519\u001b[0;31m         \u001b[0mresponse\u001b[0m \u001b[0;34m=\u001b[0m \u001b[0mself\u001b[0m\u001b[0;34m.\u001b[0m\u001b[0m_open\u001b[0m\u001b[0;34m(\u001b[0m\u001b[0mreq\u001b[0m\u001b[0;34m,\u001b[0m \u001b[0mdata\u001b[0m\u001b[0;34m)\u001b[0m\u001b[0;34m\u001b[0m\u001b[0;34m\u001b[0m\u001b[0m\n\u001b[0m\u001b[1;32m    520\u001b[0m \u001b[0;34m\u001b[0m\u001b[0m\n\u001b[1;32m    521\u001b[0m         \u001b[0;31m# post-process response\u001b[0m\u001b[0;34m\u001b[0m\u001b[0;34m\u001b[0m\u001b[0m\n",
            "\u001b[0;32m/usr/lib/python3.10/urllib/request.py\u001b[0m in \u001b[0;36m_open\u001b[0;34m(self, req, data)\u001b[0m\n\u001b[1;32m    534\u001b[0m \u001b[0;34m\u001b[0m\u001b[0m\n\u001b[1;32m    535\u001b[0m         \u001b[0mprotocol\u001b[0m \u001b[0;34m=\u001b[0m \u001b[0mreq\u001b[0m\u001b[0;34m.\u001b[0m\u001b[0mtype\u001b[0m\u001b[0;34m\u001b[0m\u001b[0;34m\u001b[0m\u001b[0m\n\u001b[0;32m--> 536\u001b[0;31m         result = self._call_chain(self.handle_open, protocol, protocol +\n\u001b[0m\u001b[1;32m    537\u001b[0m                                   '_open', req)\n\u001b[1;32m    538\u001b[0m         \u001b[0;32mif\u001b[0m \u001b[0mresult\u001b[0m\u001b[0;34m:\u001b[0m\u001b[0;34m\u001b[0m\u001b[0;34m\u001b[0m\u001b[0m\n",
            "\u001b[0;32m/usr/lib/python3.10/urllib/request.py\u001b[0m in \u001b[0;36m_call_chain\u001b[0;34m(self, chain, kind, meth_name, *args)\u001b[0m\n\u001b[1;32m    494\u001b[0m         \u001b[0;32mfor\u001b[0m \u001b[0mhandler\u001b[0m \u001b[0;32min\u001b[0m \u001b[0mhandlers\u001b[0m\u001b[0;34m:\u001b[0m\u001b[0;34m\u001b[0m\u001b[0;34m\u001b[0m\u001b[0m\n\u001b[1;32m    495\u001b[0m             \u001b[0mfunc\u001b[0m \u001b[0;34m=\u001b[0m \u001b[0mgetattr\u001b[0m\u001b[0;34m(\u001b[0m\u001b[0mhandler\u001b[0m\u001b[0;34m,\u001b[0m \u001b[0mmeth_name\u001b[0m\u001b[0;34m)\u001b[0m\u001b[0;34m\u001b[0m\u001b[0;34m\u001b[0m\u001b[0m\n\u001b[0;32m--> 496\u001b[0;31m             \u001b[0mresult\u001b[0m \u001b[0;34m=\u001b[0m \u001b[0mfunc\u001b[0m\u001b[0;34m(\u001b[0m\u001b[0;34m*\u001b[0m\u001b[0margs\u001b[0m\u001b[0;34m)\u001b[0m\u001b[0;34m\u001b[0m\u001b[0;34m\u001b[0m\u001b[0m\n\u001b[0m\u001b[1;32m    497\u001b[0m             \u001b[0;32mif\u001b[0m \u001b[0mresult\u001b[0m \u001b[0;32mis\u001b[0m \u001b[0;32mnot\u001b[0m \u001b[0;32mNone\u001b[0m\u001b[0;34m:\u001b[0m\u001b[0;34m\u001b[0m\u001b[0;34m\u001b[0m\u001b[0m\n\u001b[1;32m    498\u001b[0m                 \u001b[0;32mreturn\u001b[0m \u001b[0mresult\u001b[0m\u001b[0;34m\u001b[0m\u001b[0;34m\u001b[0m\u001b[0m\n",
            "\u001b[0;32m/usr/lib/python3.10/urllib/request.py\u001b[0m in \u001b[0;36mhttp_open\u001b[0;34m(self, req)\u001b[0m\n\u001b[1;32m   1375\u001b[0m \u001b[0;34m\u001b[0m\u001b[0m\n\u001b[1;32m   1376\u001b[0m     \u001b[0;32mdef\u001b[0m \u001b[0mhttp_open\u001b[0m\u001b[0;34m(\u001b[0m\u001b[0mself\u001b[0m\u001b[0;34m,\u001b[0m \u001b[0mreq\u001b[0m\u001b[0;34m)\u001b[0m\u001b[0;34m:\u001b[0m\u001b[0;34m\u001b[0m\u001b[0;34m\u001b[0m\u001b[0m\n\u001b[0;32m-> 1377\u001b[0;31m         \u001b[0;32mreturn\u001b[0m \u001b[0mself\u001b[0m\u001b[0;34m.\u001b[0m\u001b[0mdo_open\u001b[0m\u001b[0;34m(\u001b[0m\u001b[0mhttp\u001b[0m\u001b[0;34m.\u001b[0m\u001b[0mclient\u001b[0m\u001b[0;34m.\u001b[0m\u001b[0mHTTPConnection\u001b[0m\u001b[0;34m,\u001b[0m \u001b[0mreq\u001b[0m\u001b[0;34m)\u001b[0m\u001b[0;34m\u001b[0m\u001b[0;34m\u001b[0m\u001b[0m\n\u001b[0m\u001b[1;32m   1378\u001b[0m \u001b[0;34m\u001b[0m\u001b[0m\n\u001b[1;32m   1379\u001b[0m     \u001b[0mhttp_request\u001b[0m \u001b[0;34m=\u001b[0m \u001b[0mAbstractHTTPHandler\u001b[0m\u001b[0;34m.\u001b[0m\u001b[0mdo_request_\u001b[0m\u001b[0;34m\u001b[0m\u001b[0;34m\u001b[0m\u001b[0m\n",
            "\u001b[0;32m/usr/lib/python3.10/urllib/request.py\u001b[0m in \u001b[0;36mdo_open\u001b[0;34m(self, http_class, req, **http_conn_args)\u001b[0m\n\u001b[1;32m   1346\u001b[0m         \u001b[0;32mtry\u001b[0m\u001b[0;34m:\u001b[0m\u001b[0;34m\u001b[0m\u001b[0;34m\u001b[0m\u001b[0m\n\u001b[1;32m   1347\u001b[0m             \u001b[0;32mtry\u001b[0m\u001b[0;34m:\u001b[0m\u001b[0;34m\u001b[0m\u001b[0;34m\u001b[0m\u001b[0m\n\u001b[0;32m-> 1348\u001b[0;31m                 h.request(req.get_method(), req.selector, req.data, headers,\n\u001b[0m\u001b[1;32m   1349\u001b[0m                           encode_chunked=req.has_header('Transfer-encoding'))\n\u001b[1;32m   1350\u001b[0m             \u001b[0;32mexcept\u001b[0m \u001b[0mOSError\u001b[0m \u001b[0;32mas\u001b[0m \u001b[0merr\u001b[0m\u001b[0;34m:\u001b[0m \u001b[0;31m# timeout error\u001b[0m\u001b[0;34m\u001b[0m\u001b[0;34m\u001b[0m\u001b[0m\n",
            "\u001b[0;32m/usr/lib/python3.10/http/client.py\u001b[0m in \u001b[0;36mrequest\u001b[0;34m(self, method, url, body, headers, encode_chunked)\u001b[0m\n\u001b[1;32m   1281\u001b[0m                 encode_chunked=False):\n\u001b[1;32m   1282\u001b[0m         \u001b[0;34m\"\"\"Send a complete request to the server.\"\"\"\u001b[0m\u001b[0;34m\u001b[0m\u001b[0;34m\u001b[0m\u001b[0m\n\u001b[0;32m-> 1283\u001b[0;31m         \u001b[0mself\u001b[0m\u001b[0;34m.\u001b[0m\u001b[0m_send_request\u001b[0m\u001b[0;34m(\u001b[0m\u001b[0mmethod\u001b[0m\u001b[0;34m,\u001b[0m \u001b[0murl\u001b[0m\u001b[0;34m,\u001b[0m \u001b[0mbody\u001b[0m\u001b[0;34m,\u001b[0m \u001b[0mheaders\u001b[0m\u001b[0;34m,\u001b[0m \u001b[0mencode_chunked\u001b[0m\u001b[0;34m)\u001b[0m\u001b[0;34m\u001b[0m\u001b[0;34m\u001b[0m\u001b[0m\n\u001b[0m\u001b[1;32m   1284\u001b[0m \u001b[0;34m\u001b[0m\u001b[0m\n\u001b[1;32m   1285\u001b[0m     \u001b[0;32mdef\u001b[0m \u001b[0m_send_request\u001b[0m\u001b[0;34m(\u001b[0m\u001b[0mself\u001b[0m\u001b[0;34m,\u001b[0m \u001b[0mmethod\u001b[0m\u001b[0;34m,\u001b[0m \u001b[0murl\u001b[0m\u001b[0;34m,\u001b[0m \u001b[0mbody\u001b[0m\u001b[0;34m,\u001b[0m \u001b[0mheaders\u001b[0m\u001b[0;34m,\u001b[0m \u001b[0mencode_chunked\u001b[0m\u001b[0;34m)\u001b[0m\u001b[0;34m:\u001b[0m\u001b[0;34m\u001b[0m\u001b[0;34m\u001b[0m\u001b[0m\n",
            "\u001b[0;32m/usr/lib/python3.10/http/client.py\u001b[0m in \u001b[0;36m_send_request\u001b[0;34m(self, method, url, body, headers, encode_chunked)\u001b[0m\n\u001b[1;32m   1292\u001b[0m             \u001b[0mskips\u001b[0m\u001b[0;34m[\u001b[0m\u001b[0;34m'skip_accept_encoding'\u001b[0m\u001b[0;34m]\u001b[0m \u001b[0;34m=\u001b[0m \u001b[0;36m1\u001b[0m\u001b[0;34m\u001b[0m\u001b[0;34m\u001b[0m\u001b[0m\n\u001b[1;32m   1293\u001b[0m \u001b[0;34m\u001b[0m\u001b[0m\n\u001b[0;32m-> 1294\u001b[0;31m         \u001b[0mself\u001b[0m\u001b[0;34m.\u001b[0m\u001b[0mputrequest\u001b[0m\u001b[0;34m(\u001b[0m\u001b[0mmethod\u001b[0m\u001b[0;34m,\u001b[0m \u001b[0murl\u001b[0m\u001b[0;34m,\u001b[0m \u001b[0;34m**\u001b[0m\u001b[0mskips\u001b[0m\u001b[0;34m)\u001b[0m\u001b[0;34m\u001b[0m\u001b[0;34m\u001b[0m\u001b[0m\n\u001b[0m\u001b[1;32m   1295\u001b[0m \u001b[0;34m\u001b[0m\u001b[0m\n\u001b[1;32m   1296\u001b[0m         \u001b[0;31m# chunked encoding will happen if HTTP/1.1 is used and either\u001b[0m\u001b[0;34m\u001b[0m\u001b[0;34m\u001b[0m\u001b[0m\n",
            "\u001b[0;32m/usr/lib/python3.10/http/client.py\u001b[0m in \u001b[0;36mputrequest\u001b[0;34m(self, method, url, skip_host, skip_accept_encoding)\u001b[0m\n\u001b[1;32m   1130\u001b[0m         \u001b[0mrequest\u001b[0m \u001b[0;34m=\u001b[0m \u001b[0;34m'%s %s %s'\u001b[0m \u001b[0;34m%\u001b[0m \u001b[0;34m(\u001b[0m\u001b[0mmethod\u001b[0m\u001b[0;34m,\u001b[0m \u001b[0murl\u001b[0m\u001b[0;34m,\u001b[0m \u001b[0mself\u001b[0m\u001b[0;34m.\u001b[0m\u001b[0m_http_vsn_str\u001b[0m\u001b[0;34m)\u001b[0m\u001b[0;34m\u001b[0m\u001b[0;34m\u001b[0m\u001b[0m\n\u001b[1;32m   1131\u001b[0m \u001b[0;34m\u001b[0m\u001b[0m\n\u001b[0;32m-> 1132\u001b[0;31m         \u001b[0mself\u001b[0m\u001b[0;34m.\u001b[0m\u001b[0m_output\u001b[0m\u001b[0;34m(\u001b[0m\u001b[0mself\u001b[0m\u001b[0;34m.\u001b[0m\u001b[0m_encode_request\u001b[0m\u001b[0;34m(\u001b[0m\u001b[0mrequest\u001b[0m\u001b[0;34m)\u001b[0m\u001b[0;34m)\u001b[0m\u001b[0;34m\u001b[0m\u001b[0;34m\u001b[0m\u001b[0m\n\u001b[0m\u001b[1;32m   1133\u001b[0m \u001b[0;34m\u001b[0m\u001b[0m\n\u001b[1;32m   1134\u001b[0m         \u001b[0;32mif\u001b[0m \u001b[0mself\u001b[0m\u001b[0;34m.\u001b[0m\u001b[0m_http_vsn\u001b[0m \u001b[0;34m==\u001b[0m \u001b[0;36m11\u001b[0m\u001b[0;34m:\u001b[0m\u001b[0;34m\u001b[0m\u001b[0;34m\u001b[0m\u001b[0m\n",
            "\u001b[0;32m/usr/lib/python3.10/http/client.py\u001b[0m in \u001b[0;36m_encode_request\u001b[0;34m(self, request)\u001b[0m\n\u001b[1;32m   1210\u001b[0m     \u001b[0;32mdef\u001b[0m \u001b[0m_encode_request\u001b[0m\u001b[0;34m(\u001b[0m\u001b[0mself\u001b[0m\u001b[0;34m,\u001b[0m \u001b[0mrequest\u001b[0m\u001b[0;34m)\u001b[0m\u001b[0;34m:\u001b[0m\u001b[0;34m\u001b[0m\u001b[0;34m\u001b[0m\u001b[0m\n\u001b[1;32m   1211\u001b[0m         \u001b[0;31m# ASCII also helps prevent CVE-2019-9740.\u001b[0m\u001b[0;34m\u001b[0m\u001b[0;34m\u001b[0m\u001b[0m\n\u001b[0;32m-> 1212\u001b[0;31m         \u001b[0;32mreturn\u001b[0m \u001b[0mrequest\u001b[0m\u001b[0;34m.\u001b[0m\u001b[0mencode\u001b[0m\u001b[0;34m(\u001b[0m\u001b[0;34m'ascii'\u001b[0m\u001b[0;34m)\u001b[0m\u001b[0;34m\u001b[0m\u001b[0;34m\u001b[0m\u001b[0m\n\u001b[0m\u001b[1;32m   1213\u001b[0m \u001b[0;34m\u001b[0m\u001b[0m\n\u001b[1;32m   1214\u001b[0m     \u001b[0;32mdef\u001b[0m \u001b[0m_validate_method\u001b[0m\u001b[0;34m(\u001b[0m\u001b[0mself\u001b[0m\u001b[0;34m,\u001b[0m \u001b[0mmethod\u001b[0m\u001b[0;34m)\u001b[0m\u001b[0;34m:\u001b[0m\u001b[0;34m\u001b[0m\u001b[0;34m\u001b[0m\u001b[0m\n",
            "\u001b[0;31mUnicodeEncodeError\u001b[0m: 'ascii' codec can't encode characters in position 52-53: ordinal not in range(128)"
          ]
        }
      ]
    },
    {
      "cell_type": "code",
      "source": [
        "# [4-1] 해결1UnicodeEncodeError: 'ascii' codec can't encode characters in position 발생시\n",
        "# 원인 : 아스키 코드가 한글을 받아들이지 못해 생기는 문제\n",
        "#        인코딩 방법 변경 아스키 코드 -> URL 형식(페센트(%) 인코딩) 인코딩\n",
        "# 해결 : 변수를 urllib.parse.quote()함수를 사용하여 인코딩 변경\n",
        "\n",
        "from urllib.parse import quote\n",
        "\n",
        "# 한글데이타가 있는 api 요청변수에 quote() 사용하기\n",
        "addr        = quote('서울')\n",
        "stationName = quote('')\n",
        "\n",
        "# url 만들기 입니다.\n",
        "url = f'http://apis.data.go.kr/B552584/MsrstnInfoInqireSvc/'\\\n",
        "    f'getMsrstnList?addr={addr}&'\\\n",
        "    f'stationName={stationName}&'\\\n",
        "    f'pageNo={pageNo}&'\\\n",
        "    f'numOfRows={numOfRows}&'\\\n",
        "    f'serviceKey={serviceKey}&'\\\n",
        "    f'returnType={returnType}'\n",
        "\n",
        "print(url)\n",
        "\n",
        "result = urlopen(url)"
      ],
      "metadata": {
        "id": "X3X-VYQjqOvQ",
        "colab": {
          "base_uri": "https://localhost:8080/"
        },
        "outputId": "00791f68-57b2-4274-ca3e-df0168f3b095"
      },
      "execution_count": null,
      "outputs": [
        {
          "output_type": "stream",
          "name": "stdout",
          "text": [
            "http://apis.data.go.kr/B552584/MsrstnInfoInqireSvc/getMsrstnList?addr=%EC%84%9C%EC%9A%B8&stationName=&pageNo=1&numOfRows=10&serviceKey=mbEFdDMAXvjlftXV%2FBIqkcIRq6HI9BtxkW%2FHP%2BpSUkjfdl1qWrgf8qX7DIS%2BJ1TEIIu5JYmYbrCeYZ68XLlI%2FA%3D%3D&returnType=xml\n"
          ]
        }
      ]
    },
    {
      "cell_type": "code",
      "source": [
        "# [4-2] 해결1UnicodeEncodeError: 'ascii' codec can't encode characters in position 발생시\n",
        "# 원인 : 아스키 코드가 한글을 받아들이지 못해 생기는 문제\n",
        "#        HTTP 라이브러리 requests를 사용하여 자동 인코딩하는 방법\n",
        "# 해결 : requests.get(url)함수의 content가 데이터를 아스키 코드로 변환해 줌\n",
        "\n",
        "import requests\n",
        "result = requests.get(url).content\n",
        "print(result)"
      ],
      "metadata": {
        "id": "k3O15E1epyQx",
        "colab": {
          "base_uri": "https://localhost:8080/"
        },
        "outputId": "3aaa40cc-8d4d-4ab1-c475-c9d0373f8d16"
      },
      "execution_count": null,
      "outputs": [
        {
          "output_type": "stream",
          "name": "stdout",
          "text": [
            "b'<?xml version=\"1.0\" encoding=\"UTF-8\"?>\\r\\n<response>\\n  <header>\\n    <resultCode>00</resultCode>\\n    <resultMsg>NORMAL_CODE</resultMsg>\\n  </header>\\n  <body>\\n    <items>\\n      <item>\\n        <dmX>37.564639</dmX>\\n        <item>SO2, CO, O3, NO2, PM10, PM2.5</item>\\n        <mangName>\\xeb\\x8f\\x84\\xec\\x8b\\x9c\\xeb\\x8c\\x80\\xea\\xb8\\xb0</mangName>\\n        <year>1995</year>\\n        <addr>\\xec\\x84\\x9c\\xec\\x9a\\xb8 \\xec\\xa4\\x91\\xea\\xb5\\xac \\xeb\\x8d\\x95\\xec\\x88\\x98\\xea\\xb6\\x81\\xea\\xb8\\xb8 15 \\xec\\x8b\\x9c\\xec\\xb2\\xad\\xec\\x84\\x9c\\xec\\x86\\x8c\\xeb\\xac\\xb8\\xeb\\xb3\\x84\\xea\\xb4\\x80 3\\xeb\\x8f\\x99</addr>\\n        <stationName>\\xec\\xa4\\x91\\xea\\xb5\\xac</stationName>\\n        <dmY>126.975961</dmY>\\n      </item>\\n      <item>\\n        <dmX>37.549389</dmX>\\n        <item>SO2, CO, O3, NO2, PM10, PM2.5</item>\\n        <mangName>\\xeb\\x8f\\x84\\xeb\\xa1\\x9c\\xeb\\xb3\\x80\\xeb\\x8c\\x80\\xea\\xb8\\xb0</mangName>\\n        <year>1996</year>\\n        <addr>\\xec\\x84\\x9c\\xec\\x9a\\xb8 \\xec\\x9a\\xa9\\xec\\x82\\xb0\\xea\\xb5\\xac \\xed\\x95\\x9c\\xea\\xb0\\x95\\xeb\\x8c\\x80\\xeb\\xa1\\x9c 405 (\\xec\\x84\\x9c\\xec\\x9a\\xb8\\xec\\x97\\xad \\xec\\x95\\x9e)</addr>\\n        <stationName>\\xed\\x95\\x9c\\xea\\xb0\\x95\\xeb\\x8c\\x80\\xeb\\xa1\\x9c</stationName>\\n        <dmY>126.971519</dmY>\\n      </item>\\n      <item>\\n        <dmX>37.572025</dmX>\\n        <item>SO2, CO, O3, NO2, PM10, PM2.5</item>\\n        <mangName>\\xeb\\x8f\\x84\\xec\\x8b\\x9c\\xeb\\x8c\\x80\\xea\\xb8\\xb0</mangName>\\n        <year>1997</year>\\n        <addr>\\xec\\x84\\x9c\\xec\\x9a\\xb8 \\xec\\xa2\\x85\\xeb\\xa1\\x9c\\xea\\xb5\\xac \\xec\\xa2\\x85\\xeb\\xa1\\x9c35\\xea\\xb0\\x80\\xea\\xb8\\xb8 19 \\xec\\xa2\\x85\\xeb\\xa1\\x9c5,6\\xea\\xb0\\x80 \\xeb\\x8f\\x99 \\xec\\xa3\\xbc\\xeb\\xaf\\xbc\\xec\\x84\\xbc\\xed\\x84\\xb0</addr>\\n        <stationName>\\xec\\xa2\\x85\\xeb\\xa1\\x9c\\xea\\xb5\\xac</stationName>\\n        <dmY>127.005028</dmY>\\n      </item>\\n      <item>\\n        <dmX>37.56865</dmX>\\n        <item>SO2, CO, O3, NO2, PM10, PM2.5</item>\\n        <mangName>\\xeb\\x8f\\x84\\xeb\\xa1\\x9c\\xeb\\xb3\\x80\\xeb\\x8c\\x80\\xea\\xb8\\xb0</mangName>\\n        <year>1994</year>\\n        <addr>\\xec\\x84\\x9c\\xec\\x9a\\xb8 \\xec\\xa4\\x91\\xea\\xb5\\xac \\xec\\xb2\\xad\\xea\\xb3\\x84\\xec\\xb2\\x9c\\xeb\\xa1\\x9c 184 (\\xec\\xb2\\xad\\xea\\xb3\\x84\\xec\\xb2\\x9c4\\xea\\xb0\\x80\\xec\\x82\\xac\\xea\\xb1\\xb0\\xeb\\xa6\\xac \\xeb\\x82\\xa8\\xea\\xb0\\x95\\xeb\\xb9\\x8c\\xeb\\x94\\xa9 \\xec\\x95\\x9e)</addr>\\n        <stationName>\\xec\\xb2\\xad\\xea\\xb3\\x84\\xec\\xb2\\x9c\\xeb\\xa1\\x9c</stationName>\\n        <dmY>126.998083</dmY>\\n      </item>\\n      <item>\\n        <dmX>37.570633</dmX>\\n        <item>SO2, CO, O3, NO2, PM10, PM2.5</item>\\n        <mangName>\\xeb\\x8f\\x84\\xeb\\xa1\\x9c\\xeb\\xb3\\x80\\xeb\\x8c\\x80\\xea\\xb8\\xb0</mangName>\\n        <year>2008</year>\\n        <addr>\\xec\\x84\\x9c\\xec\\x9a\\xb8 \\xec\\xa2\\x85\\xeb\\xa1\\x9c\\xea\\xb5\\xac \\xec\\xa2\\x85\\xeb\\xa1\\x9c 169 (\\xec\\xa2\\x85\\xeb\\xac\\x98\\xec\\xa3\\xbc\\xec\\xb0\\xa8\\xec\\x9e\\xa5 \\xec\\x95\\x9e)</addr>\\n        <stationName>\\xec\\xa2\\x85\\xeb\\xa1\\x9c</stationName>\\n        <dmY>126.996783</dmY>\\n      </item>\\n      <item>\\n        <dmX>37.532057</dmX>\\n        <item>SO2, CO, O3, NO2, PM10, PM2.5</item>\\n        <mangName>\\xeb\\x8f\\x84\\xec\\x8b\\x9c\\xeb\\x8c\\x80\\xea\\xb8\\xb0</mangName>\\n        <year>1984</year>\\n        <addr>\\xec\\x84\\x9c\\xec\\x9a\\xb8\\xed\\x8a\\xb9\\xeb\\xb3\\x84\\xec\\x8b\\x9c \\xec\\x9a\\xa9\\xec\\x82\\xb0\\xea\\xb5\\xac \\xec\\x9d\\xb4\\xed\\x83\\x9c\\xec\\x9b\\x90\\xeb\\xa1\\x9c 224-19 (\\xed\\x95\\x9c\\xeb\\x82\\xa8\\xeb\\x8f\\x99) \\xed\\x95\\x9c\\xeb\\x82\\xa8\\xeb\\xa1\\x9c \\xeb\\xb3\\xb5\\xed\\x95\\xa9\\xeb\\xac\\xb8\\xed\\x99\\x94\\xec\\x84\\xbc\\xed\\x84\\xb0</addr>\\n        <stationName>\\xec\\x9a\\xa9\\xec\\x82\\xb0\\xea\\xb5\\xac</stationName>\\n        <dmY>127.002371</dmY>\\n      </item>\\n      <item>\\n        <dmX>37.544639</dmX>\\n        <item>SO2, CO, O3, NO2, PM10, PM2.5</item>\\n        <mangName>\\xeb\\x8f\\x84\\xec\\x8b\\x9c\\xeb\\x8c\\x80\\xea\\xb8\\xb0</mangName>\\n        <year>1980</year>\\n        <addr>\\xec\\x84\\x9c\\xec\\x9a\\xb8\\xed\\x8a\\xb9\\xeb\\xb3\\x84\\xec\\x8b\\x9c \\xea\\xb4\\x91\\xec\\xa7\\x84\\xea\\xb5\\xac \\xea\\xb4\\x91\\xeb\\x82\\x98\\xeb\\xa3\\xa8\\xeb\\xa1\\x9c 571 \\xea\\xb5\\xac\\xec\\x9d\\x98 \\xec\\x95\\x84\\xeb\\xa6\\xac\\xec\\x88\\x98\\xec\\xa0\\x95\\xec\\x88\\x98\\xec\\x84\\xbc\\xed\\x84\\xb0</addr>\\n        <stationName>\\xea\\xb4\\x91\\xec\\xa7\\x84\\xea\\xb5\\xac</stationName>\\n        <dmY>127.095706</dmY>\\n      </item>\\n      <item>\\n        <dmX>37.542036</dmX>\\n        <item>SO2, CO, O3, NO2, PM10, PM2.5</item>\\n        <mangName>\\xeb\\x8f\\x84\\xec\\x8b\\x9c\\xeb\\x8c\\x80\\xea\\xb8\\xb0</mangName>\\n        <year>1982</year>\\n        <addr>\\xec\\x84\\x9c\\xec\\x9a\\xb8 \\xec\\x84\\xb1\\xeb\\x8f\\x99\\xea\\xb5\\xac \\xeb\\x9a\\x9d\\xec\\x84\\xac\\xeb\\xa1\\x9c3\\xea\\xb8\\xb8 18 \\xec\\x84\\xb1\\xec\\x88\\x981\\xea\\xb0\\x801\\xeb\\x8f\\x99\\xec\\xa3\\xbc\\xeb\\xaf\\xbc\\xec\\x84\\xbc\\xed\\x84\\xb0</addr>\\n        <stationName>\\xec\\x84\\xb1\\xeb\\x8f\\x99\\xea\\xb5\\xac</stationName>\\n        <dmY>127.049685</dmY>\\n      </item>\\n      <item>\\n        <dmX>37.539283</dmX>\\n        <item>SO2, CO, O3, NO2, PM10, PM2.5</item>\\n        <mangName>\\xeb\\x8f\\x84\\xeb\\xa1\\x9c\\xeb\\xb3\\x80\\xeb\\x8c\\x80\\xea\\xb8\\xb0</mangName>\\n        <year>2009</year>\\n        <addr>\\xec\\x84\\x9c\\xec\\x9a\\xb8 \\xec\\x84\\xb1\\xeb\\x8f\\x99\\xea\\xb5\\xac \\xea\\xb0\\x95\\xeb\\xb3\\x80\\xeb\\xb6\\x81\\xeb\\xa1\\x9c 257 \\xed\\x95\\x9c\\xea\\xb0\\x95\\xec\\x82\\xac\\xec\\x97\\x85\\xeb\\xb3\\xb8\\xeb\\xb6\\x80 \\xec\\x98\\x86</addr>\\n        <stationName>\\xea\\xb0\\x95\\xeb\\xb3\\x80\\xeb\\xb6\\x81\\xeb\\xa1\\x9c</stationName>\\n        <dmY>127.040943</dmY>\\n      </item>\\n      <item>\\n        <dmX>37.584953</dmX>\\n        <item>SO2, CO, O3, NO2, PM10, PM2.5</item>\\n        <mangName>\\xeb\\x8f\\x84\\xec\\x8b\\x9c\\xeb\\x8c\\x80\\xea\\xb8\\xb0</mangName>\\n        <year>1984</year>\\n        <addr>\\xec\\x84\\x9c\\xec\\x9a\\xb8 \\xec\\xa4\\x91\\xeb\\x9e\\x91\\xea\\xb5\\xac \\xec\\x9a\\xa9\\xeb\\xa7\\x88\\xec\\x82\\xb0\\xeb\\xa1\\x9c 369 \\xea\\xb1\\xb4\\xea\\xb0\\x95\\xea\\xb0\\x80\\xec\\xa0\\x95\\xec\\xa7\\x80\\xec\\x9b\\x90\\xec\\x84\\xbc\\xed\\x84\\xb0</addr>\\n        <stationName>\\xec\\xa4\\x91\\xeb\\x9e\\x91\\xea\\xb5\\xac</stationName>\\n        <dmY>127.094283</dmY>\\n      </item>\\n    </items>\\n    <numOfRows>10</numOfRows>\\n    <pageNo>1</pageNo>\\n    <totalCount>40</totalCount>\\n  </body>\\n</response>'\n"
          ]
        }
      ]
    },
    {
      "cell_type": "code",
      "source": [
        "# [5] BeautifulSoup를 사용하여 xml 파일을 파싱\n",
        "soup = BeautifulSoup(result, 'xml')\n",
        "print(soup.prettify())"
      ],
      "metadata": {
        "id": "3aQCoBW6ngIO",
        "colab": {
          "base_uri": "https://localhost:8080/"
        },
        "outputId": "390e01f3-5e02-4adc-b7a8-0aef4d37aada"
      },
      "execution_count": null,
      "outputs": [
        {
          "output_type": "stream",
          "name": "stdout",
          "text": [
            "<?xml version=\"1.0\" encoding=\"utf-8\"?>\n",
            "<response>\n",
            " <header>\n",
            "  <resultCode>\n",
            "   00\n",
            "  </resultCode>\n",
            "  <resultMsg>\n",
            "   NORMAL_CODE\n",
            "  </resultMsg>\n",
            " </header>\n",
            " <body>\n",
            "  <items>\n",
            "   <item>\n",
            "    <dmX>\n",
            "     37.564639\n",
            "    </dmX>\n",
            "    <item>\n",
            "     SO2, CO, O3, NO2, PM10, PM2.5\n",
            "    </item>\n",
            "    <mangName>\n",
            "     도시대기\n",
            "    </mangName>\n",
            "    <year>\n",
            "     1995\n",
            "    </year>\n",
            "    <addr>\n",
            "     서울 중구 덕수궁길 15 시청서소문별관 3동\n",
            "    </addr>\n",
            "    <stationName>\n",
            "     중구\n",
            "    </stationName>\n",
            "    <dmY>\n",
            "     126.975961\n",
            "    </dmY>\n",
            "   </item>\n",
            "   <item>\n",
            "    <dmX>\n",
            "     37.549389\n",
            "    </dmX>\n",
            "    <item>\n",
            "     SO2, CO, O3, NO2, PM10, PM2.5\n",
            "    </item>\n",
            "    <mangName>\n",
            "     도로변대기\n",
            "    </mangName>\n",
            "    <year>\n",
            "     1996\n",
            "    </year>\n",
            "    <addr>\n",
            "     서울 용산구 한강대로 405 (서울역 앞)\n",
            "    </addr>\n",
            "    <stationName>\n",
            "     한강대로\n",
            "    </stationName>\n",
            "    <dmY>\n",
            "     126.971519\n",
            "    </dmY>\n",
            "   </item>\n",
            "   <item>\n",
            "    <dmX>\n",
            "     37.572025\n",
            "    </dmX>\n",
            "    <item>\n",
            "     SO2, CO, O3, NO2, PM10, PM2.5\n",
            "    </item>\n",
            "    <mangName>\n",
            "     도시대기\n",
            "    </mangName>\n",
            "    <year>\n",
            "     1997\n",
            "    </year>\n",
            "    <addr>\n",
            "     서울 종로구 종로35가길 19 종로5,6가 동 주민센터\n",
            "    </addr>\n",
            "    <stationName>\n",
            "     종로구\n",
            "    </stationName>\n",
            "    <dmY>\n",
            "     127.005028\n",
            "    </dmY>\n",
            "   </item>\n",
            "   <item>\n",
            "    <dmX>\n",
            "     37.56865\n",
            "    </dmX>\n",
            "    <item>\n",
            "     SO2, CO, O3, NO2, PM10, PM2.5\n",
            "    </item>\n",
            "    <mangName>\n",
            "     도로변대기\n",
            "    </mangName>\n",
            "    <year>\n",
            "     1994\n",
            "    </year>\n",
            "    <addr>\n",
            "     서울 중구 청계천로 184 (청계천4가사거리 남강빌딩 앞)\n",
            "    </addr>\n",
            "    <stationName>\n",
            "     청계천로\n",
            "    </stationName>\n",
            "    <dmY>\n",
            "     126.998083\n",
            "    </dmY>\n",
            "   </item>\n",
            "   <item>\n",
            "    <dmX>\n",
            "     37.570633\n",
            "    </dmX>\n",
            "    <item>\n",
            "     SO2, CO, O3, NO2, PM10, PM2.5\n",
            "    </item>\n",
            "    <mangName>\n",
            "     도로변대기\n",
            "    </mangName>\n",
            "    <year>\n",
            "     2008\n",
            "    </year>\n",
            "    <addr>\n",
            "     서울 종로구 종로 169 (종묘주차장 앞)\n",
            "    </addr>\n",
            "    <stationName>\n",
            "     종로\n",
            "    </stationName>\n",
            "    <dmY>\n",
            "     126.996783\n",
            "    </dmY>\n",
            "   </item>\n",
            "   <item>\n",
            "    <dmX>\n",
            "     37.532057\n",
            "    </dmX>\n",
            "    <item>\n",
            "     SO2, CO, O3, NO2, PM10, PM2.5\n",
            "    </item>\n",
            "    <mangName>\n",
            "     도시대기\n",
            "    </mangName>\n",
            "    <year>\n",
            "     1984\n",
            "    </year>\n",
            "    <addr>\n",
            "     서울특별시 용산구 이태원로 224-19 (한남동) 한남로 복합문화센터\n",
            "    </addr>\n",
            "    <stationName>\n",
            "     용산구\n",
            "    </stationName>\n",
            "    <dmY>\n",
            "     127.002371\n",
            "    </dmY>\n",
            "   </item>\n",
            "   <item>\n",
            "    <dmX>\n",
            "     37.544639\n",
            "    </dmX>\n",
            "    <item>\n",
            "     SO2, CO, O3, NO2, PM10, PM2.5\n",
            "    </item>\n",
            "    <mangName>\n",
            "     도시대기\n",
            "    </mangName>\n",
            "    <year>\n",
            "     1980\n",
            "    </year>\n",
            "    <addr>\n",
            "     서울특별시 광진구 광나루로 571 구의 아리수정수센터\n",
            "    </addr>\n",
            "    <stationName>\n",
            "     광진구\n",
            "    </stationName>\n",
            "    <dmY>\n",
            "     127.095706\n",
            "    </dmY>\n",
            "   </item>\n",
            "   <item>\n",
            "    <dmX>\n",
            "     37.542036\n",
            "    </dmX>\n",
            "    <item>\n",
            "     SO2, CO, O3, NO2, PM10, PM2.5\n",
            "    </item>\n",
            "    <mangName>\n",
            "     도시대기\n",
            "    </mangName>\n",
            "    <year>\n",
            "     1982\n",
            "    </year>\n",
            "    <addr>\n",
            "     서울 성동구 뚝섬로3길 18 성수1가1동주민센터\n",
            "    </addr>\n",
            "    <stationName>\n",
            "     성동구\n",
            "    </stationName>\n",
            "    <dmY>\n",
            "     127.049685\n",
            "    </dmY>\n",
            "   </item>\n",
            "   <item>\n",
            "    <dmX>\n",
            "     37.539283\n",
            "    </dmX>\n",
            "    <item>\n",
            "     SO2, CO, O3, NO2, PM10, PM2.5\n",
            "    </item>\n",
            "    <mangName>\n",
            "     도로변대기\n",
            "    </mangName>\n",
            "    <year>\n",
            "     2009\n",
            "    </year>\n",
            "    <addr>\n",
            "     서울 성동구 강변북로 257 한강사업본부 옆\n",
            "    </addr>\n",
            "    <stationName>\n",
            "     강변북로\n",
            "    </stationName>\n",
            "    <dmY>\n",
            "     127.040943\n",
            "    </dmY>\n",
            "   </item>\n",
            "   <item>\n",
            "    <dmX>\n",
            "     37.584953\n",
            "    </dmX>\n",
            "    <item>\n",
            "     SO2, CO, O3, NO2, PM10, PM2.5\n",
            "    </item>\n",
            "    <mangName>\n",
            "     도시대기\n",
            "    </mangName>\n",
            "    <year>\n",
            "     1984\n",
            "    </year>\n",
            "    <addr>\n",
            "     서울 중랑구 용마산로 369 건강가정지원센터\n",
            "    </addr>\n",
            "    <stationName>\n",
            "     중랑구\n",
            "    </stationName>\n",
            "    <dmY>\n",
            "     127.094283\n",
            "    </dmY>\n",
            "   </item>\n",
            "  </items>\n",
            "  <numOfRows>\n",
            "   10\n",
            "  </numOfRows>\n",
            "  <pageNo>\n",
            "   1\n",
            "  </pageNo>\n",
            "  <totalCount>\n",
            "   40\n",
            "  </totalCount>\n",
            " </body>\n",
            "</response>\n",
            "\n"
          ]
        }
      ]
    },
    {
      "cell_type": "code",
      "source": [
        "# [6] XML파일에서 쓸모있는 데이터들은 모두 item태그에 있기 때문에 find_all 메서드를 사용하여 item태그를 가져옵니다.\n",
        "item = soup.find_all('item')\n",
        "# 총 데이타 확인\n",
        "print(len(item))\n"
      ],
      "metadata": {
        "id": "WVuVz1oGniQ8",
        "colab": {
          "base_uri": "https://localhost:8080/"
        },
        "outputId": "c120e754-33c5-43df-8e9c-07add172ad0c"
      },
      "execution_count": null,
      "outputs": [
        {
          "output_type": "stream",
          "name": "stdout",
          "text": [
            "20\n"
          ]
        }
      ]
    },
    {
      "cell_type": "code",
      "source": [
        "# [7] 첫번째 데이타 확인\n",
        "print(item[0])"
      ],
      "metadata": {
        "colab": {
          "base_uri": "https://localhost:8080/"
        },
        "id": "l3x23qX3Ez8J",
        "outputId": "42855324-4f4b-480c-d264-5fc4411224b8"
      },
      "execution_count": null,
      "outputs": [
        {
          "output_type": "stream",
          "name": "stdout",
          "text": [
            "<item>\n",
            "<dmX>37.564639</dmX>\n",
            "<item>SO2, CO, O3, NO2, PM10, PM2.5</item>\n",
            "<mangName>도시대기</mangName>\n",
            "<year>1995</year>\n",
            "<addr>서울 중구 덕수궁길 15 시청서소문별관 3동</addr>\n",
            "<stationName>중구</stationName>\n",
            "<dmY>126.975961</dmY>\n",
            "</item>\n"
          ]
        }
      ]
    },
    {
      "cell_type": "code",
      "source": [
        "# [7] 두번째 데이타 확인\n",
        "print(item[1])"
      ],
      "metadata": {
        "colab": {
          "base_uri": "https://localhost:8080/"
        },
        "id": "iMYVPGGNcYpj",
        "outputId": "c7ade764-8cfa-41bc-ba23-d8c1acba0a91"
      },
      "execution_count": null,
      "outputs": [
        {
          "output_type": "stream",
          "name": "stdout",
          "text": [
            "<item>SO2, CO, O3, NO2, PM10, PM2.5</item>\n"
          ]
        }
      ]
    },
    {
      "cell_type": "code",
      "source": [
        "# [8] 반복문으로 전체 데이타 뽑아내기\n",
        "# <item> </item> 사이에 <item>SO2, CO, O3, NO2, PM10, PM2.5</item> 데이타가 있어\n",
        "# find_all('item')으로 데이타 뽑아내서 중복 됨.\n",
        "# 중복데이타 제외하고 딕셔너리로 생성\n",
        "\n",
        "for idx in range(0,len(item)-1,2):\n",
        "    item_dict= {}\n",
        "    item_dict['dmX'] = item[idx].find('dmX').text\n",
        "    item_dict['mangName'] = item[idx].find('mangName').text\n",
        "    item_dict['year'] = item[idx].find('year').text\n",
        "    item_dict['addr'] = item[idx].find('addr').text\n",
        "    item_dict['stationName'] = item[idx].find('stationName').text\n",
        "    item_dict['dmY'] = item[idx].find('dmY').text\n",
        "    print(item_dict)\n",
        "\n",
        "\n"
      ],
      "metadata": {
        "id": "mR4Unm9Yxlkj",
        "colab": {
          "base_uri": "https://localhost:8080/"
        },
        "outputId": "99186b62-0a04-41be-cd88-da3f58751428"
      },
      "execution_count": null,
      "outputs": [
        {
          "output_type": "stream",
          "name": "stdout",
          "text": [
            "{'dmX': '37.564639', 'mangName': '도시대기', 'year': '1995', 'addr': '서울 중구 덕수궁길 15 시청서소문별관 3동', 'stationName': '중구', 'dmY': '126.975961'}\n",
            "{'dmX': '37.549389', 'mangName': '도로변대기', 'year': '1996', 'addr': '서울 용산구 한강대로 405 (서울역 앞)', 'stationName': '한강대로', 'dmY': '126.971519'}\n",
            "{'dmX': '37.572025', 'mangName': '도시대기', 'year': '1997', 'addr': '서울 종로구 종로35가길 19 종로5,6가 동 주민센터', 'stationName': '종로구', 'dmY': '127.005028'}\n",
            "{'dmX': '37.56865', 'mangName': '도로변대기', 'year': '1994', 'addr': '서울 중구 청계천로 184 (청계천4가사거리 남강빌딩 앞)', 'stationName': '청계천로', 'dmY': '126.998083'}\n",
            "{'dmX': '37.570633', 'mangName': '도로변대기', 'year': '2008', 'addr': '서울 종로구 종로 169 (종묘주차장 앞)', 'stationName': '종로', 'dmY': '126.996783'}\n",
            "{'dmX': '37.532057', 'mangName': '도시대기', 'year': '1984', 'addr': '서울특별시 용산구 이태원로 224-19 (한남동) 한남로 복합문화센터', 'stationName': '용산구', 'dmY': '127.002371'}\n",
            "{'dmX': '37.544639', 'mangName': '도시대기', 'year': '1980', 'addr': '서울특별시 광진구 광나루로 571 구의 아리수정수센터', 'stationName': '광진구', 'dmY': '127.095706'}\n",
            "{'dmX': '37.542036', 'mangName': '도시대기', 'year': '1982', 'addr': '서울 성동구 뚝섬로3길 18 성수1가1동주민센터', 'stationName': '성동구', 'dmY': '127.049685'}\n",
            "{'dmX': '37.539283', 'mangName': '도로변대기', 'year': '2009', 'addr': '서울 성동구 강변북로 257 한강사업본부 옆', 'stationName': '강변북로', 'dmY': '127.040943'}\n",
            "{'dmX': '37.584953', 'mangName': '도시대기', 'year': '1984', 'addr': '서울 중랑구 용마산로 369 건강가정지원센터', 'stationName': '중랑구', 'dmY': '127.094283'}\n"
          ]
        }
      ]
    },
    {
      "cell_type": "code",
      "source": [
        "# [9] 필요한 데이타만 뽑아서 데이타셋으로 만들기\n",
        "\n",
        "import pandas as pd\n",
        "df = pd.DataFrame()\n",
        "for idx in range(0,len(item)-1,2):\n",
        "    item_dict= {}\n",
        "    item_dict['region'] = addr\n",
        "    item_dict['stationName'] = item[idx].find('stationName').text\n",
        "    item_dict['year'] = item[idx].find('year').text\n",
        "    item_dict['addr'] = item[idx].find('addr').text\n",
        "    item_dict['mangName'] = item[idx].find('mangName').text\n",
        "    df2 = pd.DataFrame(item_dict, index=[idx])\n",
        "    df = pd.concat([df,df2], ignore_index=True)\n",
        "print(df)\n",
        "\n"
      ],
      "metadata": {
        "colab": {
          "base_uri": "https://localhost:8080/"
        },
        "id": "7c4RAWsJuuO2",
        "outputId": "17e96b20-d9b5-43ff-fc71-29c3f2be475a"
      },
      "execution_count": null,
      "outputs": [
        {
          "output_type": "stream",
          "name": "stdout",
          "text": [
            "  region stationName  year                                    addr mangName\n",
            "0     서울          중구  1995                서울 중구 덕수궁길 15 시청서소문별관 3동     도시대기\n",
            "1     서울        한강대로  1996                 서울 용산구 한강대로 405 (서울역 앞)    도로변대기\n",
            "2     서울         종로구  1997          서울 종로구 종로35가길 19 종로5,6가 동 주민센터     도시대기\n",
            "3     서울        청계천로  1994        서울 중구 청계천로 184 (청계천4가사거리 남강빌딩 앞)    도로변대기\n",
            "4     서울          종로  2008                 서울 종로구 종로 169 (종묘주차장 앞)    도로변대기\n",
            "5     서울         용산구  1984  서울특별시 용산구 이태원로 224-19 (한남동) 한남로 복합문화센터     도시대기\n",
            "6     서울         광진구  1980           서울특별시 광진구 광나루로 571 구의 아리수정수센터     도시대기\n",
            "7     서울         성동구  1982              서울 성동구 뚝섬로3길 18 성수1가1동주민센터     도시대기\n",
            "8     서울        강변북로  2009                서울 성동구 강변북로 257 한강사업본부 옆    도로변대기\n",
            "9     서울         중랑구  1984                서울 중랑구 용마산로 369 건강가정지원센터     도시대기\n"
          ]
        }
      ]
    },
    {
      "cell_type": "code",
      "source": [
        "# [10] csv 파일로 만들기\n",
        "df.to_csv('out.csv', index=False, encoding='cp949')\n"
      ],
      "metadata": {
        "id": "_wSIRu9dU58h"
      },
      "execution_count": null,
      "outputs": []
    },
    {
      "cell_type": "code",
      "source": [],
      "metadata": {
        "id": "H_SKYTKKPsYr"
      },
      "execution_count": null,
      "outputs": []
    }
  ]
}