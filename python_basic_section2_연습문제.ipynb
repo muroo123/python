{
  "nbformat": 4,
  "nbformat_minor": 0,
  "metadata": {
    "colab": {
      "provenance": [],
      "authorship_tag": "ABX9TyMMgOhUZWkwWqzG/IqbIXnc",
      "include_colab_link": true
    },
    "kernelspec": {
      "name": "python3",
      "display_name": "Python 3"
    },
    "language_info": {
      "name": "python"
    }
  },
  "cells": [
    {
      "cell_type": "markdown",
      "metadata": {
        "id": "view-in-github",
        "colab_type": "text"
      },
      "source": [
        "<a href=\"https://colab.research.google.com/github/muroo123/python/blob/main/python_basic_section2_%EC%97%B0%EC%8A%B5%EB%AC%B8%EC%A0%9C.ipynb\" target=\"_parent\"><img src=\"https://colab.research.google.com/assets/colab-badge.svg\" alt=\"Open In Colab\"/></a>"
      ]
    },
    {
      "cell_type": "code",
      "execution_count": null,
      "metadata": {
        "colab": {
          "base_uri": "https://localhost:8080/"
        },
        "id": "sSiscHeJysyd",
        "outputId": "be101e0b-64da-47f7-dc79-c1b991d06a64"
      },
      "outputs": [
        {
          "output_type": "stream",
          "name": "stdout",
          "text": [
            "1번 정수 1개를 입력하세요100\n",
            "-100\n",
            "2번 문자 1개를 입력 받아 다음 문자 출력A\n",
            "B\n",
            "3번 단어 반복 출력하기 (예)hello 3python 3\n",
            "pythonpythonpython\n",
            "4번 정수 2개 입력 받아 거듭제곱 계산2 8\n",
            "256\n",
            "5번 정수 2개 입력 받아 몫과 나머지 출력20 7\n",
            "2 6\n",
            "2.857142857142857    2.86   2.86\n"
          ]
        }
      ],
      "source": [
        "#산술연산\n",
        "\n",
        "#1 정수 1개 입력 받아 부호 바꾸기\n",
        "a = int(input(\"1번 정수 1개를 입력하세요\"))\n",
        "\n",
        "\n",
        "#2 알파벳 문자 1개를 입력받아 그 다음 문자를 출력.\n",
        "# ord() chr() 사용, 입력 A -> 출력 B\n",
        "b = input(\"2번 문자 1개를 입력 받아 다음 문자 출력\")\n",
        "\n",
        "\n",
        "#3 단어와 반복 횟수를 입력받아 여러 번 출력\n",
        "# 입력 : hello 3 -> 출력 hellohellohello\n",
        "# 입력값 구분은 공백(space), split() 사용\n",
        "w, n = input(\"3번 단어 반복 출력하기 (예)hello 3\").split()\n",
        "\n",
        "\n",
        "#4 정수 2개 입력 받아 거듭제곱 계산\n",
        "# 입력 10 2 -> 출력 100(10*10)\n",
        "n1, n2 = input(\"4번 정수 2개 입력 받아 거듭제곱 계산\").split()\n",
        "\n",
        "\n",
        "#5 정수 2개(a, b) 를 입력받아 a를 b로 나눈 몫과 나머지 출력\n",
        "a, b = input(\"5번 정수 2개 입력 받아 몫과 나머지 출력\").split()\n",
        "\n",
        "\n",
        "#6 5번 입력 값을 사용하여 a/b 결과를 소수점 2자리까지 출력\n",
        "# 출력은 %f 서식과 f'{}' 사용\n",
        "\n",
        "\n",
        "\n"
      ]
    },
    {
      "cell_type": "code",
      "source": [
        "#할당 연산자\n",
        "# 할당 연산자를 사용하여 출력하기\n",
        "# +=. -=, *=, /=, //=, %=, **=\n",
        "a = 10\n",
        "b = 3\n",
        "\n",
        "# a값 1 크게 만들기\n",
        "\n",
        "\n",
        "# b값 1 작게 만들기\n",
        "\n",
        "\n",
        "# a값 2 곱하기\n",
        "\n",
        "\n",
        "# a값 3 나누기\n",
        "\n",
        "\n",
        "a = 10\n",
        "# a값 3 나누기 몫\n",
        "\n",
        "\n",
        "a = 10\n",
        "# a값 3 나누기 나머지\n",
        "\n",
        "\n",
        "a = 10\n",
        "# a값 3제곱\n",
        "\n"
      ],
      "metadata": {
        "colab": {
          "base_uri": "https://localhost:8080/"
        },
        "id": "KJvjJ7MOziKt",
        "outputId": "3b7e9739-80b6-4892-b606-a31c49692dc6"
      },
      "execution_count": null,
      "outputs": [
        {
          "output_type": "stream",
          "name": "stdout",
          "text": [
            "11\n",
            "2\n",
            "22\n",
            "7.333333333333333\n",
            "3\n",
            "1\n",
            "1000\n"
          ]
        }
      ]
    },
    {
      "cell_type": "code",
      "source": [
        "#비교 연산자 <, >, <=, >=, ==(같다), !=(다르다)\n",
        "\n",
        "#1 두 정수(a, b)를 입력받아 a가 b보다 작으면 True 를, a가 b보다 크거나 같으면 False 를 출력\n",
        "a, b = input(\"1번 정수 2개 입력 받아 작다, 크거나 같다 출력\").split()\n",
        "\n",
        "#2 두 정수(a, b)를 입력받아 a와 b의 값이 같으면 True 를, 같지 않으면 False 를 출력\n",
        "a, b = input(\"2번 정수 2개 입력 받아 같다, 같지 않다 출력\").split()\n",
        "\n"
      ],
      "metadata": {
        "colab": {
          "base_uri": "https://localhost:8080/"
        },
        "id": "kh6sVW_u1dKg",
        "outputId": "dbd14c7a-80c8-46ed-e20f-76d6b0e3ef0c"
      },
      "execution_count": null,
      "outputs": [
        {
          "output_type": "stream",
          "name": "stdout",
          "text": [
            "1번 정수 2개 입력 받아 작다, 크거나 같다 출력10 20\n",
            "True False\n",
            "2번 정수 2개 입력 받아 같다, 같지 않다 출력10 20\n",
            "False True\n"
          ]
        }
      ]
    },
    {
      "cell_type": "code",
      "source": [
        "# 논리연산\n",
        "#1 정수 입력 받아 참 거짓 평가하기\n",
        "n = int(input(\"1번 정수 입력 받아 참, 거짓 평가하기\"))\n",
        "\n",
        "\n",
        "#2 참,거짓 바꾸기. 정수값이 입력 그 bool 값을 반대로 출력\n",
        "\n",
        "\n",
        "#3 2개의 정수값의 bool 값이 모두 True 일 때에만 True 를 출력\n",
        "\n",
        "#4 2개의 정수값이 입력될 때,그 불 값이 하나라도 True 일 때에만 True 를 출력\n",
        "\n",
        "\n",
        "# 5 2개의 정수값이 입력될 때,그 불 값(True/False) 이 서로 다를 때에만 True 를 출력\n"
      ],
      "metadata": {
        "id": "5x_Z-rIv2tc3",
        "colab": {
          "base_uri": "https://localhost:8080/"
        },
        "outputId": "e4c947ea-c313-4fa6-8d99-939a57cd3254"
      },
      "execution_count": null,
      "outputs": [
        {
          "output_type": "stream",
          "name": "stdout",
          "text": [
            "1번 정수 입력 받아 참, 거짓 평가하기50\n",
            "50 True\n",
            "2번 정수값이 입력 bool 값 반대로 바꾸기50\n",
            "True False\n",
            "3번 2개의 정수값의 bool 값이 모두 True 일 때에만 True 를 출력10 0\n",
            "False\n",
            "4번 2개의 정수값의 bool 값이 하나라도 True 일 때에만 True 를 출력10 0\n",
            "True\n",
            "5번 2개의 정수값의 bool 값이 서로 다를 때에만 True 를 출력10 0\n",
            "True\n"
          ]
        }
      ]
    },
    {
      "cell_type": "code",
      "source": [
        "#비트연산 &(AND) |(OR) ^(XOR) ~(NOT) <<(왼쪽쉬프트) >>(오른쪽쉬프트)\n",
        "\n",
        "#1 변수 a 값을 비트단위로 참/거짓을 바꾼 후 정수로 출력\n",
        "a = 5\n",
        "\n",
        "#2 변수 a 값을 +- 부호를 바꾼 후 정수로 출력\n",
        "a = -10\n",
        "\n",
        "\n",
        "#3 변수 a,b 값을 비트단위로 and, or, xor 연산한 후 그 결과를 정수로 출력\n",
        "a = 20\n",
        "b = 15\n",
        "\n",
        "#4 변수 a값을 2배, 4배, 8배하기\n",
        "a = 10\n",
        "\n",
        "\n",
        "# 5변수 a값을 1/2배, 1/4배, 1/8배하기\n",
        "a = 10\n",
        "\n"
      ],
      "metadata": {
        "colab": {
          "base_uri": "https://localhost:8080/"
        },
        "id": "yet4uYmtFDzx",
        "outputId": "38c46393-689c-4f94-99d6-44406a07fbcf"
      },
      "execution_count": null,
      "outputs": [
        {
          "output_type": "stream",
          "name": "stdout",
          "text": [
            "-6 5\n",
            "10\n",
            "0b10100\n",
            "0b1111\n",
            "0b100 4\n",
            "0b11111 31\n",
            "0b11011 27\n",
            "20 40 80\n",
            "5 2 1\n"
          ]
        }
      ]
    },
    {
      "cell_type": "code",
      "source": [
        "# in 연산자, is 연산자\n",
        "\n",
        "#1 in 있다 True 없다 False\n",
        "a = ['딸기','귤','사과','배']\n",
        " #딸기 있다\n",
        " #딸기 없다 False\n",
        "\n",
        "#2 is 메모리 값이 같다 True, 다르다 False\n",
        "# 값이 같다 ==, 값이 다르다 !=\n",
        "a=\"바나나\"\n",
        "b=\"바나나\"\n",
        "c = a\n"
      ],
      "metadata": {
        "id": "grla98npFQW4",
        "colab": {
          "base_uri": "https://localhost:8080/"
        },
        "outputId": "792237bb-1aa3-41d3-b05d-a1f88a09a0c5"
      },
      "execution_count": null,
      "outputs": [
        {
          "output_type": "stream",
          "name": "stdout",
          "text": [
            "True\n",
            "False\n",
            "False True\n",
            "True True\n"
          ]
        }
      ]
    },
    {
      "cell_type": "code",
      "source": [
        "#동전 교환(몫, 나머지 연산자 사용)\n",
        "# 입력 : 교환할 돈은 얼마 ? 12345\n",
        "# 출력\n",
        "#  오백원짜리 ==> 24 개\n",
        "#  백원짜리   ==> 3 개\n",
        "#  오십원짜리 ==> 0 개\n",
        "#  십원짜리   ==> 4 개\n",
        "#  바꾸지 못한 잔돈 ==> 5 원\n",
        "\n",
        "## 동전 종류별 변수\n",
        "c500, c100, c50, c10 = 0,0,0,0\n",
        "\n",
        "## 입력으로 교환 할 돈 받기\n",
        "\n",
        "\n",
        "#몫(//), 나머지(%) 연산자를 사용하여 동전 종류별 구하기\n",
        "\n",
        "\n",
        "# 동전 종류별 출력, 바꾸지 못한 돈 출력\n",
        "\n"
      ],
      "metadata": {
        "id": "_UN3VzG7mnHN",
        "colab": {
          "base_uri": "https://localhost:8080/"
        },
        "outputId": "2a8e7062-880d-43e2-8a30-34ea4adadf93"
      },
      "execution_count": null,
      "outputs": [
        {
          "output_type": "stream",
          "name": "stdout",
          "text": [
            "교환할 돈은 얼마 ? 12345\n",
            "\n",
            " 오백원짜리 ==> 24 개 \n",
            " 백원짜리   ==> 3 개 \n",
            " 오십원짜리 ==> 0 개 \n",
            " 십원짜리   ==> 4 개 \n",
            " 바꾸지 못한 잔돈 ==> 5 원 \n",
            "\n"
          ]
        }
      ]
    }
  ]
}